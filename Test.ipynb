{
 "cells": [
  {
   "cell_type": "code",
   "execution_count": 10,
   "metadata": {},
   "outputs": [],
   "source": [
    "import os, sys, subprocess\n",
    "import time\n",
    "\n"
   ]
  },
  {
   "cell_type": "code",
   "execution_count": 16,
   "metadata": {},
   "outputs": [
    {
     "name": "stdout",
     "output_type": "stream",
     "text": [
      "899.9542098045349\n",
      "894.1816041469574\n",
      "888.1200053691864\n",
      "878.0375468730927\n",
      "867.236775636673\n",
      "855.9738805294037\n",
      "839.1553421020508\n",
      "828.9476568698883\n",
      "818.0099806785583\n",
      "807.7949106693268\n",
      "797.2176847457886\n",
      "785.3750295639038\n",
      "772.7786250114441\n",
      "761.4737331867218\n",
      "750.7787964344025\n",
      "741.4325115680695\n",
      "735.1361546516418\n",
      "726.8060946464539\n",
      "716.2160305976868\n",
      "701.2458202838898\n",
      "689.3297443389893\n",
      "682.3940629959106\n",
      "676.2240977287292\n",
      "669.6780557632446\n",
      "663.0826585292816\n",
      "656.9528901576996\n",
      "646.4844207763672\n",
      "635.4672546386719\n",
      "624.57812666893\n",
      "612.9873518943787\n",
      "602.4888257980347\n",
      "590.7371292114258\n",
      "579.4050769805908\n",
      "572.7401404380798\n",
      "567.3728792667389\n",
      "557.9632344245911\n",
      "549.0999643802643\n",
      "540.8487689495087\n",
      "531.88126039505\n",
      "522.7473187446594\n",
      "512.905960559845\n",
      "503.5807087421417\n",
      "493.86040234565735\n",
      "485.2062203884125\n",
      "476.2083411216736\n",
      "467.8760645389557\n",
      "460.68282198905945\n",
      "451.27684473991394\n",
      "441.5750079154968\n",
      "432.7938392162323\n",
      "423.45119071006775\n",
      "413.8248682022095\n",
      "405.30864334106445\n",
      "395.7438654899597\n",
      "385.74376225471497\n",
      "376.6454737186432\n",
      "366.09870862960815\n",
      "354.98935627937317\n",
      "344.8136074542999\n",
      "333.7137506008148\n",
      "323.1464796066284\n",
      "311.41614842414856\n",
      "300.1782937049866\n"
     ]
    }
   ],
   "source": [
    "directory_compile = 'compile/latex'\n",
    "directory_src = 'src'\n",
    "directory_pdf = 'compile/pdf'\n",
    "\n",
    "now = time.time()\n",
    "for filename in os.listdir(directory_pdf):\n",
    "    f = os.path.join(directory_pdf, filename)\n",
    "    # checking if it is a file\n",
    "    if os.path.isfile(f):\n",
    "        if f[-4:] == '.pdf':\n",
    "            print(now - os.path.getmtime(f))"
   ]
  },
  {
   "cell_type": "code",
   "execution_count": 12,
   "metadata": {},
   "outputs": [
    {
     "name": "stdout",
     "output_type": "stream",
     "text": [
      "1664866495.7735548\n"
     ]
    }
   ],
   "source": [
    "print(now)"
   ]
  },
  {
   "cell_type": "code",
   "execution_count": null,
   "metadata": {},
   "outputs": [],
   "source": []
  }
 ],
 "metadata": {
  "kernelspec": {
   "display_name": "Python 3",
   "language": "python",
   "name": "python3"
  },
  "language_info": {
   "codemirror_mode": {
    "name": "ipython",
    "version": 3
   },
   "file_extension": ".py",
   "mimetype": "text/x-python",
   "name": "python",
   "nbconvert_exporter": "python",
   "pygments_lexer": "ipython3",
   "version": "3.7.4"
  }
 },
 "nbformat": 4,
 "nbformat_minor": 2
}
