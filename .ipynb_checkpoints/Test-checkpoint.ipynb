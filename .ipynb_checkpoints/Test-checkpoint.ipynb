{
 "cells": [
  {
   "cell_type": "code",
   "execution_count": 10,
   "metadata": {},
   "outputs": [],
   "source": [
    "import os, sys, subprocess\n",
    "import time\n",
    "\n"
   ]
  },
  {
   "cell_type": "code",
   "execution_count": 37,
   "metadata": {},
   "outputs": [],
   "source": [
    "def createlatex(directory, filename):\n",
    "        texte = '\\\\documentclass[preview,border=2pt]{standalone} \\n \\\\usepackage[utf8]{inputenc} \\n \\\\usepackage[T1]{fontenc} \\n \\\\usepackage[frenchb]{babel} \\n'\n",
    "        texte += '\\\\newcommand{\\\\path}{../../} \\n \\\\input{\\\\path_preambules/general.tex} \\n \\\\input{\\\\path_preambules/print.tex} \\n \\\\input{\\\\path_preambules/macros.tex} \\n \\\\setboolean{solution}{true} \\n'\n",
    "        texte += '\\n \\\\begin{document}'\n",
    "        texte += '\\n \\\\insertexo{'+str(filename[:len(filename)-4])+'} \\n'\n",
    "        texte += '\\\\end{document}'\n",
    "        latexfile = open(os.path.join(directory,filename),\"w\")\n",
    "        latexfile.write(texte)\n",
    "        latexfile.close()"
   ]
  },
  {
   "cell_type": "code",
   "execution_count": 39,
   "metadata": {},
   "outputs": [],
   "source": [
    "directory_compile = 'compile/latex'  #fichiers compilables en standalone\n",
    "directory_src = 'src'                #fichiers sources des exercices (non compilables)\n",
    "directory_pdf = 'compile/pdf'        #fichier pdf compilé\n",
    "\n",
    "for filename in os.listdir(directory_src):\n",
    "    if filename[-4:] == \".tex\":\n",
    "        filename = filename[:-4]\n",
    "    file_pdf = os.path.join(directory_pdf, filename)+'.pdf'\n",
    "    file_src = os.path.join(directory_src, filename)+'.tex'\n",
    "    file_compile = os.path.join(directory_compile, filename)+'.tex'\n",
    "    # checking if it is a file\n",
    "    if os.path.isfile(file_compile) == 0:\n",
    "        createlatex(directory_compile,filename+'.tex')\n",
    "        print(filename+'.tex is created in compilable folder')\n",
    "    if os.path.isfile(file_pdf) == 0:\n",
    "        print('compiling...')\n",
    "        os.system('pdflatex ' + ' -synctex=1 -interaction=nonstopmode -output-directory=' + directory_pdf + ' ' + os.path.join(directory_compile, filename+'.tex'))\n",
    "        print('compiling ended')\n",
    "    time_pdf = os.path.getmtime(file_pdf)\n",
    "    time_src = os.path.getmtime(file_src)\n",
    "    if time_src > time_pdf:\n",
    "        print(filename +' is not updated')"
   ]
  },
  {
   "cell_type": "code",
   "execution_count": 12,
   "metadata": {},
   "outputs": [
    {
     "name": "stdout",
     "output_type": "stream",
     "text": [
      "1664866495.7735548\n"
     ]
    }
   ],
   "source": []
  },
  {
   "cell_type": "code",
   "execution_count": null,
   "metadata": {},
   "outputs": [],
   "source": []
  }
 ],
 "metadata": {
  "kernelspec": {
   "display_name": "Python 3",
   "language": "python",
   "name": "python3"
  },
  "language_info": {
   "codemirror_mode": {
    "name": "ipython",
    "version": 3
   },
   "file_extension": ".py",
   "mimetype": "text/x-python",
   "name": "python",
   "nbconvert_exporter": "python",
   "pygments_lexer": "ipython3",
   "version": "3.7.4"
  }
 },
 "nbformat": 4,
 "nbformat_minor": 2
}
