{
 "cells": [
  {
   "cell_type": "markdown",
   "metadata": {},
   "source": [
    "# Analyse en composantes principales"
   ]
  },
  {
   "cell_type": "markdown",
   "metadata": {},
   "source": [
    "L'analyse en composantes principales (ACP ou PCA en anglais pour principal component analysis) est une méthode de la famille de l'analyse des données et plus généralement de la statistique multivariée qui consiste à transformer des variables liées entre elles (dites « corrélées ») en nouvelles variables décorrélées les unes des autres. Ces nouvelles variables sont nommées « composantes principales », ou axes principaux. Elle permet de réduire le nombre de variables et de rendre l'information moins redondante. \n",
    "\n",
    "Il s'agit d'une approche :\n",
    "- géométrique : les variables étant représentées dans un nouvel espace, selon des directions d'inertie maximale\n",
    "- statistique : la recherche portant sur des axes indépendants expliquant au mieux la variabilité — la variance — des données). Lorsqu'on veut compresser un ensemble de $N$ variables aléatoires, les $n$ premiers axes de l'analyse en composantes principales sont un meilleur choix, du point de vue de l'inertie ou de la variance.\n",
    "\n",
    "L'outil mathématique est appliqué dans d'autres domaines que les statistiques et est parfois appelé décomposition orthogonale aux valeurs propres ou POD (anglais : proper orthogonal decomposition). \n",
    "\n",
    "Cours :\n",
    "http://josephsalmon.eu/enseignement/Montpellier/HMMA308/PCA_slides.pdf"
   ]
  },
  {
   "cell_type": "markdown",
   "metadata": {},
   "source": [
    "## 1er exemple : analyse des températures"
   ]
  },
  {
   "cell_type": "code",
   "execution_count": 1,
   "metadata": {},
   "outputs": [],
   "source": [
    "import pandas as pd"
   ]
  },
  {
   "cell_type": "code",
   "execution_count": 2,
   "metadata": {},
   "outputs": [],
   "source": [
    "url = \"http://factominer.free.fr/livre/temperat.csv\""
   ]
  },
  {
   "cell_type": "code",
   "execution_count": 3,
   "metadata": {},
   "outputs": [],
   "source": [
    "data = pd.read_csv(url,encoding = \"ISO-8859-1\",sep=\";\")"
   ]
  },
  {
   "cell_type": "code",
   "execution_count": 4,
   "metadata": {},
   "outputs": [
    {
     "data": {
      "text/html": [
       "<div>\n",
       "<style scoped>\n",
       "    .dataframe tbody tr th:only-of-type {\n",
       "        vertical-align: middle;\n",
       "    }\n",
       "\n",
       "    .dataframe tbody tr th {\n",
       "        vertical-align: top;\n",
       "    }\n",
       "\n",
       "    .dataframe thead th {\n",
       "        text-align: right;\n",
       "    }\n",
       "</style>\n",
       "<table border=\"1\" class=\"dataframe\">\n",
       "  <thead>\n",
       "    <tr style=\"text-align: right;\">\n",
       "      <th></th>\n",
       "      <th>Janvier</th>\n",
       "      <th>Février</th>\n",
       "      <th>Mars</th>\n",
       "      <th>Avril</th>\n",
       "      <th>Mai</th>\n",
       "      <th>Juin</th>\n",
       "      <th>Juillet</th>\n",
       "      <th>Août</th>\n",
       "      <th>Septembre</th>\n",
       "      <th>Octobre</th>\n",
       "      <th>Novembre</th>\n",
       "      <th>Décembre</th>\n",
       "      <th>Moyenne</th>\n",
       "      <th>Amplitude</th>\n",
       "      <th>Latitude</th>\n",
       "      <th>Longitude</th>\n",
       "    </tr>\n",
       "  </thead>\n",
       "  <tbody>\n",
       "    <tr>\n",
       "      <td>count</td>\n",
       "      <td>35.000000</td>\n",
       "      <td>35.000000</td>\n",
       "      <td>35.000000</td>\n",
       "      <td>35.000000</td>\n",
       "      <td>35.000000</td>\n",
       "      <td>35.000000</td>\n",
       "      <td>35.000000</td>\n",
       "      <td>35.000000</td>\n",
       "      <td>35.000000</td>\n",
       "      <td>35.000000</td>\n",
       "      <td>35.000000</td>\n",
       "      <td>35.000000</td>\n",
       "      <td>35.000000</td>\n",
       "      <td>35.000000</td>\n",
       "      <td>35.000000</td>\n",
       "      <td>35.000000</td>\n",
       "    </tr>\n",
       "    <tr>\n",
       "      <td>mean</td>\n",
       "      <td>1.345714</td>\n",
       "      <td>2.217143</td>\n",
       "      <td>5.228571</td>\n",
       "      <td>9.282857</td>\n",
       "      <td>13.911429</td>\n",
       "      <td>17.414286</td>\n",
       "      <td>19.622857</td>\n",
       "      <td>18.980000</td>\n",
       "      <td>15.631429</td>\n",
       "      <td>11.002857</td>\n",
       "      <td>6.065714</td>\n",
       "      <td>2.880000</td>\n",
       "      <td>10.265714</td>\n",
       "      <td>18.317143</td>\n",
       "      <td>48.771429</td>\n",
       "      <td>11.980000</td>\n",
       "    </tr>\n",
       "    <tr>\n",
       "      <td>std</td>\n",
       "      <td>5.502157</td>\n",
       "      <td>5.498956</td>\n",
       "      <td>4.863040</td>\n",
       "      <td>3.806456</td>\n",
       "      <td>3.273582</td>\n",
       "      <td>3.320271</td>\n",
       "      <td>3.574673</td>\n",
       "      <td>3.727939</td>\n",
       "      <td>4.109728</td>\n",
       "      <td>4.323226</td>\n",
       "      <td>4.566820</td>\n",
       "      <td>4.967411</td>\n",
       "      <td>3.963061</td>\n",
       "      <td>4.505649</td>\n",
       "      <td>7.022467</td>\n",
       "      <td>8.891132</td>\n",
       "    </tr>\n",
       "    <tr>\n",
       "      <td>min</td>\n",
       "      <td>-9.300000</td>\n",
       "      <td>-7.900000</td>\n",
       "      <td>-3.700000</td>\n",
       "      <td>2.900000</td>\n",
       "      <td>6.500000</td>\n",
       "      <td>9.300000</td>\n",
       "      <td>11.100000</td>\n",
       "      <td>10.600000</td>\n",
       "      <td>7.900000</td>\n",
       "      <td>4.500000</td>\n",
       "      <td>-1.100000</td>\n",
       "      <td>-6.000000</td>\n",
       "      <td>4.500000</td>\n",
       "      <td>10.200000</td>\n",
       "      <td>37.200000</td>\n",
       "      <td>0.000000</td>\n",
       "    </tr>\n",
       "    <tr>\n",
       "      <td>25%</td>\n",
       "      <td>-1.550000</td>\n",
       "      <td>-0.150000</td>\n",
       "      <td>1.600000</td>\n",
       "      <td>7.250000</td>\n",
       "      <td>12.150000</td>\n",
       "      <td>15.400000</td>\n",
       "      <td>17.300000</td>\n",
       "      <td>16.650000</td>\n",
       "      <td>13.000000</td>\n",
       "      <td>8.650000</td>\n",
       "      <td>3.200000</td>\n",
       "      <td>0.250000</td>\n",
       "      <td>7.750000</td>\n",
       "      <td>14.900000</td>\n",
       "      <td>43.900000</td>\n",
       "      <td>4.350000</td>\n",
       "    </tr>\n",
       "    <tr>\n",
       "      <td>50%</td>\n",
       "      <td>0.200000</td>\n",
       "      <td>1.900000</td>\n",
       "      <td>5.400000</td>\n",
       "      <td>8.900000</td>\n",
       "      <td>13.800000</td>\n",
       "      <td>16.900000</td>\n",
       "      <td>18.900000</td>\n",
       "      <td>18.300000</td>\n",
       "      <td>14.800000</td>\n",
       "      <td>10.200000</td>\n",
       "      <td>5.100000</td>\n",
       "      <td>1.700000</td>\n",
       "      <td>9.700000</td>\n",
       "      <td>18.500000</td>\n",
       "      <td>50.000000</td>\n",
       "      <td>9.400000</td>\n",
       "    </tr>\n",
       "    <tr>\n",
       "      <td>75%</td>\n",
       "      <td>4.900000</td>\n",
       "      <td>5.800000</td>\n",
       "      <td>8.500000</td>\n",
       "      <td>12.050000</td>\n",
       "      <td>16.350000</td>\n",
       "      <td>19.800000</td>\n",
       "      <td>21.750000</td>\n",
       "      <td>21.600000</td>\n",
       "      <td>18.250000</td>\n",
       "      <td>13.300000</td>\n",
       "      <td>7.900000</td>\n",
       "      <td>5.400000</td>\n",
       "      <td>12.650000</td>\n",
       "      <td>21.450000</td>\n",
       "      <td>52.750000</td>\n",
       "      <td>18.650000</td>\n",
       "    </tr>\n",
       "    <tr>\n",
       "      <td>max</td>\n",
       "      <td>10.700000</td>\n",
       "      <td>11.800000</td>\n",
       "      <td>14.100000</td>\n",
       "      <td>16.900000</td>\n",
       "      <td>20.900000</td>\n",
       "      <td>24.500000</td>\n",
       "      <td>27.400000</td>\n",
       "      <td>27.200000</td>\n",
       "      <td>24.300000</td>\n",
       "      <td>19.400000</td>\n",
       "      <td>14.900000</td>\n",
       "      <td>12.000000</td>\n",
       "      <td>18.200000</td>\n",
       "      <td>27.600000</td>\n",
       "      <td>64.100000</td>\n",
       "      <td>30.300000</td>\n",
       "    </tr>\n",
       "  </tbody>\n",
       "</table>\n",
       "</div>"
      ],
      "text/plain": [
       "         Janvier    Février       Mars      Avril        Mai       Juin  \\\n",
       "count  35.000000  35.000000  35.000000  35.000000  35.000000  35.000000   \n",
       "mean    1.345714   2.217143   5.228571   9.282857  13.911429  17.414286   \n",
       "std     5.502157   5.498956   4.863040   3.806456   3.273582   3.320271   \n",
       "min    -9.300000  -7.900000  -3.700000   2.900000   6.500000   9.300000   \n",
       "25%    -1.550000  -0.150000   1.600000   7.250000  12.150000  15.400000   \n",
       "50%     0.200000   1.900000   5.400000   8.900000  13.800000  16.900000   \n",
       "75%     4.900000   5.800000   8.500000  12.050000  16.350000  19.800000   \n",
       "max    10.700000  11.800000  14.100000  16.900000  20.900000  24.500000   \n",
       "\n",
       "         Juillet       Août  Septembre    Octobre   Novembre   Décembre  \\\n",
       "count  35.000000  35.000000  35.000000  35.000000  35.000000  35.000000   \n",
       "mean   19.622857  18.980000  15.631429  11.002857   6.065714   2.880000   \n",
       "std     3.574673   3.727939   4.109728   4.323226   4.566820   4.967411   \n",
       "min    11.100000  10.600000   7.900000   4.500000  -1.100000  -6.000000   \n",
       "25%    17.300000  16.650000  13.000000   8.650000   3.200000   0.250000   \n",
       "50%    18.900000  18.300000  14.800000  10.200000   5.100000   1.700000   \n",
       "75%    21.750000  21.600000  18.250000  13.300000   7.900000   5.400000   \n",
       "max    27.400000  27.200000  24.300000  19.400000  14.900000  12.000000   \n",
       "\n",
       "         Moyenne  Amplitude   Latitude  Longitude  \n",
       "count  35.000000  35.000000  35.000000  35.000000  \n",
       "mean   10.265714  18.317143  48.771429  11.980000  \n",
       "std     3.963061   4.505649   7.022467   8.891132  \n",
       "min     4.500000  10.200000  37.200000   0.000000  \n",
       "25%     7.750000  14.900000  43.900000   4.350000  \n",
       "50%     9.700000  18.500000  50.000000   9.400000  \n",
       "75%    12.650000  21.450000  52.750000  18.650000  \n",
       "max    18.200000  27.600000  64.100000  30.300000  "
      ]
     },
     "execution_count": 4,
     "metadata": {},
     "output_type": "execute_result"
    }
   ],
   "source": [
    "data = pd.DataFrame(data)\n",
    "data.describe()"
   ]
  },
  {
   "cell_type": "markdown",
   "metadata": {},
   "source": [
    "On corrige le nom de la première colonne. Une manière possible est de transformer l'index en liste, de modifier la première donnée de la liste, puis de la réaffecter à l'index des colonnes du tableau."
   ]
  },
  {
   "cell_type": "code",
   "execution_count": 5,
   "metadata": {},
   "outputs": [],
   "source": [
    "noms_colonnes = list(data.columns)"
   ]
  },
  {
   "cell_type": "code",
   "execution_count": 8,
   "metadata": {},
   "outputs": [],
   "source": [
    "noms_colonnes[0]='Ville'"
   ]
  },
  {
   "cell_type": "code",
   "execution_count": 9,
   "metadata": {},
   "outputs": [],
   "source": [
    "data.columns = noms_colonnes"
   ]
  },
  {
   "cell_type": "markdown",
   "metadata": {},
   "source": [
    "Nombre de variables étudiées (on ne prend pas en compte la première colonne qui fait permet d'identifier les individus)"
   ]
  },
  {
   "cell_type": "code",
   "execution_count": 33,
   "metadata": {},
   "outputs": [
    {
     "data": {
      "text/plain": [
       "17"
      ]
     },
     "execution_count": 33,
     "metadata": {},
     "output_type": "execute_result"
    }
   ],
   "source": [
    "len(data.columns)-1"
   ]
  },
  {
   "cell_type": "markdown",
   "metadata": {},
   "source": [
    "Nombre d'individus de la population étudiée :"
   ]
  },
  {
   "cell_type": "code",
   "execution_count": 34,
   "metadata": {},
   "outputs": [
    {
     "data": {
      "text/plain": [
       "35"
      ]
     },
     "execution_count": 34,
     "metadata": {},
     "output_type": "execute_result"
    }
   ],
   "source": [
    "len(data.index)"
   ]
  },
  {
   "cell_type": "markdown",
   "metadata": {},
   "source": [
    "On se contente des données de températures mensuelles :"
   ]
  },
  {
   "cell_type": "code",
   "execution_count": 35,
   "metadata": {},
   "outputs": [],
   "source": [
    "temp = data.iloc[:,1:13]"
   ]
  },
  {
   "cell_type": "code",
   "execution_count": 36,
   "metadata": {
    "scrolled": true
   },
   "outputs": [
    {
     "data": {
      "text/html": [
       "<div>\n",
       "<style scoped>\n",
       "    .dataframe tbody tr th:only-of-type {\n",
       "        vertical-align: middle;\n",
       "    }\n",
       "\n",
       "    .dataframe tbody tr th {\n",
       "        vertical-align: top;\n",
       "    }\n",
       "\n",
       "    .dataframe thead th {\n",
       "        text-align: right;\n",
       "    }\n",
       "</style>\n",
       "<table border=\"1\" class=\"dataframe\">\n",
       "  <thead>\n",
       "    <tr style=\"text-align: right;\">\n",
       "      <th></th>\n",
       "      <th>Janvier</th>\n",
       "      <th>Février</th>\n",
       "      <th>Mars</th>\n",
       "      <th>Avril</th>\n",
       "      <th>Mai</th>\n",
       "      <th>Juin</th>\n",
       "      <th>Juillet</th>\n",
       "      <th>Août</th>\n",
       "      <th>Septembre</th>\n",
       "      <th>Octobre</th>\n",
       "      <th>Novembre</th>\n",
       "      <th>Décembre</th>\n",
       "    </tr>\n",
       "  </thead>\n",
       "  <tbody>\n",
       "    <tr>\n",
       "      <td>0</td>\n",
       "      <td>2.9</td>\n",
       "      <td>2.5</td>\n",
       "      <td>5.7</td>\n",
       "      <td>8.2</td>\n",
       "      <td>12.5</td>\n",
       "      <td>14.8</td>\n",
       "      <td>17.1</td>\n",
       "      <td>17.1</td>\n",
       "      <td>14.5</td>\n",
       "      <td>11.4</td>\n",
       "      <td>7.0</td>\n",
       "      <td>4.4</td>\n",
       "    </tr>\n",
       "    <tr>\n",
       "      <td>1</td>\n",
       "      <td>9.1</td>\n",
       "      <td>9.7</td>\n",
       "      <td>11.7</td>\n",
       "      <td>15.4</td>\n",
       "      <td>20.1</td>\n",
       "      <td>24.5</td>\n",
       "      <td>27.4</td>\n",
       "      <td>27.2</td>\n",
       "      <td>23.8</td>\n",
       "      <td>19.2</td>\n",
       "      <td>14.6</td>\n",
       "      <td>11.0</td>\n",
       "    </tr>\n",
       "    <tr>\n",
       "      <td>2</td>\n",
       "      <td>-0.2</td>\n",
       "      <td>0.1</td>\n",
       "      <td>4.4</td>\n",
       "      <td>8.2</td>\n",
       "      <td>13.8</td>\n",
       "      <td>16.0</td>\n",
       "      <td>18.3</td>\n",
       "      <td>18.0</td>\n",
       "      <td>14.4</td>\n",
       "      <td>10.0</td>\n",
       "      <td>4.2</td>\n",
       "      <td>1.2</td>\n",
       "    </tr>\n",
       "    <tr>\n",
       "      <td>3</td>\n",
       "      <td>3.3</td>\n",
       "      <td>3.3</td>\n",
       "      <td>6.7</td>\n",
       "      <td>8.9</td>\n",
       "      <td>12.8</td>\n",
       "      <td>15.6</td>\n",
       "      <td>17.8</td>\n",
       "      <td>17.8</td>\n",
       "      <td>15.0</td>\n",
       "      <td>11.1</td>\n",
       "      <td>6.7</td>\n",
       "      <td>4.4</td>\n",
       "    </tr>\n",
       "    <tr>\n",
       "      <td>4</td>\n",
       "      <td>-1.1</td>\n",
       "      <td>0.8</td>\n",
       "      <td>5.5</td>\n",
       "      <td>11.6</td>\n",
       "      <td>17.0</td>\n",
       "      <td>20.2</td>\n",
       "      <td>22.0</td>\n",
       "      <td>21.3</td>\n",
       "      <td>16.9</td>\n",
       "      <td>11.3</td>\n",
       "      <td>5.1</td>\n",
       "      <td>0.7</td>\n",
       "    </tr>\n",
       "    <tr>\n",
       "      <td>5</td>\n",
       "      <td>-0.4</td>\n",
       "      <td>-0.4</td>\n",
       "      <td>1.3</td>\n",
       "      <td>5.8</td>\n",
       "      <td>11.1</td>\n",
       "      <td>15.4</td>\n",
       "      <td>17.1</td>\n",
       "      <td>16.6</td>\n",
       "      <td>13.3</td>\n",
       "      <td>8.8</td>\n",
       "      <td>4.1</td>\n",
       "      <td>1.3</td>\n",
       "    </tr>\n",
       "    <tr>\n",
       "      <td>6</td>\n",
       "      <td>4.8</td>\n",
       "      <td>5.0</td>\n",
       "      <td>5.9</td>\n",
       "      <td>7.8</td>\n",
       "      <td>10.4</td>\n",
       "      <td>13.3</td>\n",
       "      <td>15.0</td>\n",
       "      <td>14.6</td>\n",
       "      <td>12.7</td>\n",
       "      <td>9.7</td>\n",
       "      <td>6.7</td>\n",
       "      <td>5.4</td>\n",
       "    </tr>\n",
       "    <tr>\n",
       "      <td>7</td>\n",
       "      <td>-5.8</td>\n",
       "      <td>-6.2</td>\n",
       "      <td>-2.7</td>\n",
       "      <td>3.1</td>\n",
       "      <td>10.2</td>\n",
       "      <td>14.0</td>\n",
       "      <td>17.2</td>\n",
       "      <td>14.9</td>\n",
       "      <td>9.7</td>\n",
       "      <td>5.2</td>\n",
       "      <td>0.1</td>\n",
       "      <td>-2.3</td>\n",
       "    </tr>\n",
       "    <tr>\n",
       "      <td>8</td>\n",
       "      <td>-5.9</td>\n",
       "      <td>-5.0</td>\n",
       "      <td>-0.3</td>\n",
       "      <td>7.4</td>\n",
       "      <td>14.3</td>\n",
       "      <td>17.8</td>\n",
       "      <td>19.4</td>\n",
       "      <td>18.5</td>\n",
       "      <td>13.7</td>\n",
       "      <td>7.5</td>\n",
       "      <td>1.2</td>\n",
       "      <td>-3.6</td>\n",
       "    </tr>\n",
       "    <tr>\n",
       "      <td>9</td>\n",
       "      <td>-3.7</td>\n",
       "      <td>-2.0</td>\n",
       "      <td>1.9</td>\n",
       "      <td>7.9</td>\n",
       "      <td>13.2</td>\n",
       "      <td>16.9</td>\n",
       "      <td>18.4</td>\n",
       "      <td>17.6</td>\n",
       "      <td>13.7</td>\n",
       "      <td>8.6</td>\n",
       "      <td>2.6</td>\n",
       "      <td>-1.7</td>\n",
       "    </tr>\n",
       "    <tr>\n",
       "      <td>10</td>\n",
       "      <td>10.5</td>\n",
       "      <td>11.3</td>\n",
       "      <td>12.8</td>\n",
       "      <td>14.5</td>\n",
       "      <td>16.7</td>\n",
       "      <td>19.4</td>\n",
       "      <td>21.5</td>\n",
       "      <td>21.9</td>\n",
       "      <td>20.4</td>\n",
       "      <td>17.4</td>\n",
       "      <td>13.7</td>\n",
       "      <td>11.1</td>\n",
       "    </tr>\n",
       "    <tr>\n",
       "      <td>11</td>\n",
       "      <td>3.4</td>\n",
       "      <td>4.2</td>\n",
       "      <td>5.5</td>\n",
       "      <td>8.3</td>\n",
       "      <td>11.9</td>\n",
       "      <td>15.1</td>\n",
       "      <td>16.9</td>\n",
       "      <td>16.5</td>\n",
       "      <td>14.0</td>\n",
       "      <td>10.2</td>\n",
       "      <td>6.3</td>\n",
       "      <td>4.4</td>\n",
       "    </tr>\n",
       "    <tr>\n",
       "      <td>12</td>\n",
       "      <td>5.0</td>\n",
       "      <td>6.6</td>\n",
       "      <td>9.4</td>\n",
       "      <td>12.2</td>\n",
       "      <td>16.0</td>\n",
       "      <td>20.8</td>\n",
       "      <td>24.7</td>\n",
       "      <td>24.3</td>\n",
       "      <td>19.8</td>\n",
       "      <td>13.9</td>\n",
       "      <td>8.7</td>\n",
       "      <td>5.4</td>\n",
       "    </tr>\n",
       "    <tr>\n",
       "      <td>13</td>\n",
       "      <td>-6.9</td>\n",
       "      <td>-6.2</td>\n",
       "      <td>-1.9</td>\n",
       "      <td>5.4</td>\n",
       "      <td>12.4</td>\n",
       "      <td>15.9</td>\n",
       "      <td>17.4</td>\n",
       "      <td>16.3</td>\n",
       "      <td>11.6</td>\n",
       "      <td>5.8</td>\n",
       "      <td>0.1</td>\n",
       "      <td>-4.2</td>\n",
       "    </tr>\n",
       "    <tr>\n",
       "      <td>14</td>\n",
       "      <td>-9.3</td>\n",
       "      <td>-7.6</td>\n",
       "      <td>-2.0</td>\n",
       "      <td>6.0</td>\n",
       "      <td>13.0</td>\n",
       "      <td>16.6</td>\n",
       "      <td>18.3</td>\n",
       "      <td>16.7</td>\n",
       "      <td>11.2</td>\n",
       "      <td>5.1</td>\n",
       "      <td>-1.1</td>\n",
       "      <td>-6.0</td>\n",
       "    </tr>\n",
       "    <tr>\n",
       "      <td>15</td>\n",
       "      <td>-4.3</td>\n",
       "      <td>-3.8</td>\n",
       "      <td>-0.6</td>\n",
       "      <td>4.4</td>\n",
       "      <td>10.3</td>\n",
       "      <td>14.9</td>\n",
       "      <td>16.9</td>\n",
       "      <td>15.4</td>\n",
       "      <td>11.1</td>\n",
       "      <td>5.7</td>\n",
       "      <td>0.5</td>\n",
       "      <td>-2.9</td>\n",
       "    </tr>\n",
       "    <tr>\n",
       "      <td>16</td>\n",
       "      <td>3.7</td>\n",
       "      <td>3.7</td>\n",
       "      <td>7.3</td>\n",
       "      <td>9.7</td>\n",
       "      <td>13.7</td>\n",
       "      <td>16.5</td>\n",
       "      <td>19.0</td>\n",
       "      <td>18.7</td>\n",
       "      <td>16.1</td>\n",
       "      <td>12.5</td>\n",
       "      <td>7.3</td>\n",
       "      <td>5.2</td>\n",
       "    </tr>\n",
       "    <tr>\n",
       "      <td>17</td>\n",
       "      <td>-1.3</td>\n",
       "      <td>0.2</td>\n",
       "      <td>3.6</td>\n",
       "      <td>8.8</td>\n",
       "      <td>14.3</td>\n",
       "      <td>17.6</td>\n",
       "      <td>19.3</td>\n",
       "      <td>18.7</td>\n",
       "      <td>14.9</td>\n",
       "      <td>9.4</td>\n",
       "      <td>3.8</td>\n",
       "      <td>0.3</td>\n",
       "    </tr>\n",
       "    <tr>\n",
       "      <td>18</td>\n",
       "      <td>-0.3</td>\n",
       "      <td>0.1</td>\n",
       "      <td>0.8</td>\n",
       "      <td>2.9</td>\n",
       "      <td>6.5</td>\n",
       "      <td>9.3</td>\n",
       "      <td>11.1</td>\n",
       "      <td>10.6</td>\n",
       "      <td>7.9</td>\n",
       "      <td>4.5</td>\n",
       "      <td>1.7</td>\n",
       "      <td>0.2</td>\n",
       "    </tr>\n",
       "    <tr>\n",
       "      <td>19</td>\n",
       "      <td>7.1</td>\n",
       "      <td>8.2</td>\n",
       "      <td>10.5</td>\n",
       "      <td>13.7</td>\n",
       "      <td>17.8</td>\n",
       "      <td>21.7</td>\n",
       "      <td>24.4</td>\n",
       "      <td>24.1</td>\n",
       "      <td>20.9</td>\n",
       "      <td>16.5</td>\n",
       "      <td>11.7</td>\n",
       "      <td>8.3</td>\n",
       "    </tr>\n",
       "    <tr>\n",
       "      <td>20</td>\n",
       "      <td>-1.4</td>\n",
       "      <td>0.8</td>\n",
       "      <td>4.9</td>\n",
       "      <td>9.3</td>\n",
       "      <td>13.8</td>\n",
       "      <td>17.0</td>\n",
       "      <td>18.9</td>\n",
       "      <td>18.7</td>\n",
       "      <td>15.2</td>\n",
       "      <td>10.5</td>\n",
       "      <td>5.1</td>\n",
       "      <td>0.8</td>\n",
       "    </tr>\n",
       "    <tr>\n",
       "      <td>21</td>\n",
       "      <td>-1.7</td>\n",
       "      <td>0.2</td>\n",
       "      <td>4.3</td>\n",
       "      <td>9.7</td>\n",
       "      <td>14.3</td>\n",
       "      <td>17.7</td>\n",
       "      <td>20.0</td>\n",
       "      <td>19.5</td>\n",
       "      <td>15.8</td>\n",
       "      <td>10.7</td>\n",
       "      <td>5.0</td>\n",
       "      <td>0.6</td>\n",
       "    </tr>\n",
       "    <tr>\n",
       "      <td>22</td>\n",
       "      <td>-3.5</td>\n",
       "      <td>-3.5</td>\n",
       "      <td>-1.3</td>\n",
       "      <td>3.5</td>\n",
       "      <td>9.2</td>\n",
       "      <td>14.6</td>\n",
       "      <td>17.2</td>\n",
       "      <td>16.0</td>\n",
       "      <td>11.7</td>\n",
       "      <td>6.5</td>\n",
       "      <td>1.7</td>\n",
       "      <td>-1.6</td>\n",
       "    </tr>\n",
       "    <tr>\n",
       "      <td>23</td>\n",
       "      <td>3.1</td>\n",
       "      <td>2.9</td>\n",
       "      <td>6.2</td>\n",
       "      <td>8.9</td>\n",
       "      <td>12.9</td>\n",
       "      <td>15.5</td>\n",
       "      <td>17.9</td>\n",
       "      <td>17.6</td>\n",
       "      <td>14.7</td>\n",
       "      <td>11.5</td>\n",
       "      <td>6.8</td>\n",
       "      <td>4.7</td>\n",
       "    </tr>\n",
       "    <tr>\n",
       "      <td>24</td>\n",
       "      <td>9.1</td>\n",
       "      <td>10.3</td>\n",
       "      <td>11.8</td>\n",
       "      <td>14.1</td>\n",
       "      <td>17.4</td>\n",
       "      <td>21.2</td>\n",
       "      <td>24.2</td>\n",
       "      <td>24.1</td>\n",
       "      <td>21.7</td>\n",
       "      <td>17.5</td>\n",
       "      <td>13.1</td>\n",
       "      <td>10.0</td>\n",
       "    </tr>\n",
       "    <tr>\n",
       "      <td>25</td>\n",
       "      <td>5.6</td>\n",
       "      <td>6.7</td>\n",
       "      <td>9.0</td>\n",
       "      <td>11.9</td>\n",
       "      <td>15.0</td>\n",
       "      <td>18.3</td>\n",
       "      <td>20.4</td>\n",
       "      <td>20.0</td>\n",
       "      <td>17.6</td>\n",
       "      <td>13.5</td>\n",
       "      <td>8.5</td>\n",
       "      <td>6.1</td>\n",
       "    </tr>\n",
       "    <tr>\n",
       "      <td>26</td>\n",
       "      <td>2.9</td>\n",
       "      <td>3.6</td>\n",
       "      <td>4.7</td>\n",
       "      <td>7.1</td>\n",
       "      <td>9.9</td>\n",
       "      <td>13.0</td>\n",
       "      <td>14.7</td>\n",
       "      <td>14.3</td>\n",
       "      <td>12.1</td>\n",
       "      <td>8.7</td>\n",
       "      <td>5.3</td>\n",
       "      <td>3.7</td>\n",
       "    </tr>\n",
       "    <tr>\n",
       "      <td>27</td>\n",
       "      <td>0.2</td>\n",
       "      <td>1.8</td>\n",
       "      <td>5.4</td>\n",
       "      <td>9.7</td>\n",
       "      <td>14.3</td>\n",
       "      <td>17.5</td>\n",
       "      <td>19.0</td>\n",
       "      <td>18.3</td>\n",
       "      <td>14.8</td>\n",
       "      <td>9.8</td>\n",
       "      <td>4.9</td>\n",
       "      <td>1.7</td>\n",
       "    </tr>\n",
       "    <tr>\n",
       "      <td>28</td>\n",
       "      <td>0.1</td>\n",
       "      <td>1.9</td>\n",
       "      <td>5.1</td>\n",
       "      <td>9.4</td>\n",
       "      <td>13.8</td>\n",
       "      <td>17.3</td>\n",
       "      <td>19.4</td>\n",
       "      <td>18.5</td>\n",
       "      <td>15.0</td>\n",
       "      <td>9.8</td>\n",
       "      <td>4.9</td>\n",
       "      <td>1.4</td>\n",
       "    </tr>\n",
       "    <tr>\n",
       "      <td>29</td>\n",
       "      <td>8.7</td>\n",
       "      <td>8.7</td>\n",
       "      <td>11.4</td>\n",
       "      <td>13.8</td>\n",
       "      <td>17.5</td>\n",
       "      <td>21.0</td>\n",
       "      <td>24.5</td>\n",
       "      <td>24.6</td>\n",
       "      <td>21.8</td>\n",
       "      <td>17.8</td>\n",
       "      <td>12.2</td>\n",
       "      <td>10.0</td>\n",
       "    </tr>\n",
       "    <tr>\n",
       "      <td>30</td>\n",
       "      <td>1.1</td>\n",
       "      <td>3.6</td>\n",
       "      <td>8.0</td>\n",
       "      <td>12.6</td>\n",
       "      <td>17.3</td>\n",
       "      <td>21.3</td>\n",
       "      <td>23.8</td>\n",
       "      <td>22.8</td>\n",
       "      <td>18.9</td>\n",
       "      <td>13.1</td>\n",
       "      <td>6.9</td>\n",
       "      <td>2.6</td>\n",
       "    </tr>\n",
       "    <tr>\n",
       "      <td>31</td>\n",
       "      <td>10.5</td>\n",
       "      <td>11.5</td>\n",
       "      <td>13.3</td>\n",
       "      <td>16.9</td>\n",
       "      <td>20.9</td>\n",
       "      <td>23.8</td>\n",
       "      <td>24.5</td>\n",
       "      <td>22.3</td>\n",
       "      <td>22.3</td>\n",
       "      <td>18.4</td>\n",
       "      <td>14.9</td>\n",
       "      <td>12.0</td>\n",
       "    </tr>\n",
       "    <tr>\n",
       "      <td>32</td>\n",
       "      <td>10.7</td>\n",
       "      <td>11.8</td>\n",
       "      <td>14.1</td>\n",
       "      <td>16.1</td>\n",
       "      <td>19.7</td>\n",
       "      <td>23.4</td>\n",
       "      <td>26.7</td>\n",
       "      <td>26.7</td>\n",
       "      <td>24.3</td>\n",
       "      <td>19.4</td>\n",
       "      <td>14.5</td>\n",
       "      <td>11.2</td>\n",
       "    </tr>\n",
       "    <tr>\n",
       "      <td>33</td>\n",
       "      <td>-8.2</td>\n",
       "      <td>-7.9</td>\n",
       "      <td>-3.7</td>\n",
       "      <td>3.2</td>\n",
       "      <td>10.0</td>\n",
       "      <td>15.4</td>\n",
       "      <td>18.4</td>\n",
       "      <td>16.9</td>\n",
       "      <td>11.5</td>\n",
       "      <td>5.2</td>\n",
       "      <td>-0.4</td>\n",
       "      <td>-5.3</td>\n",
       "    </tr>\n",
       "    <tr>\n",
       "      <td>34</td>\n",
       "      <td>-0.7</td>\n",
       "      <td>0.7</td>\n",
       "      <td>4.3</td>\n",
       "      <td>8.5</td>\n",
       "      <td>12.9</td>\n",
       "      <td>16.2</td>\n",
       "      <td>18.0</td>\n",
       "      <td>17.2</td>\n",
       "      <td>14.1</td>\n",
       "      <td>8.9</td>\n",
       "      <td>3.9</td>\n",
       "      <td>0.3</td>\n",
       "    </tr>\n",
       "  </tbody>\n",
       "</table>\n",
       "</div>"
      ],
      "text/plain": [
       "    Janvier  Février  Mars  Avril   Mai  Juin  Juillet  Août  Septembre  \\\n",
       "0       2.9      2.5   5.7    8.2  12.5  14.8     17.1  17.1       14.5   \n",
       "1       9.1      9.7  11.7   15.4  20.1  24.5     27.4  27.2       23.8   \n",
       "2      -0.2      0.1   4.4    8.2  13.8  16.0     18.3  18.0       14.4   \n",
       "3       3.3      3.3   6.7    8.9  12.8  15.6     17.8  17.8       15.0   \n",
       "4      -1.1      0.8   5.5   11.6  17.0  20.2     22.0  21.3       16.9   \n",
       "5      -0.4     -0.4   1.3    5.8  11.1  15.4     17.1  16.6       13.3   \n",
       "6       4.8      5.0   5.9    7.8  10.4  13.3     15.0  14.6       12.7   \n",
       "7      -5.8     -6.2  -2.7    3.1  10.2  14.0     17.2  14.9        9.7   \n",
       "8      -5.9     -5.0  -0.3    7.4  14.3  17.8     19.4  18.5       13.7   \n",
       "9      -3.7     -2.0   1.9    7.9  13.2  16.9     18.4  17.6       13.7   \n",
       "10     10.5     11.3  12.8   14.5  16.7  19.4     21.5  21.9       20.4   \n",
       "11      3.4      4.2   5.5    8.3  11.9  15.1     16.9  16.5       14.0   \n",
       "12      5.0      6.6   9.4   12.2  16.0  20.8     24.7  24.3       19.8   \n",
       "13     -6.9     -6.2  -1.9    5.4  12.4  15.9     17.4  16.3       11.6   \n",
       "14     -9.3     -7.6  -2.0    6.0  13.0  16.6     18.3  16.7       11.2   \n",
       "15     -4.3     -3.8  -0.6    4.4  10.3  14.9     16.9  15.4       11.1   \n",
       "16      3.7      3.7   7.3    9.7  13.7  16.5     19.0  18.7       16.1   \n",
       "17     -1.3      0.2   3.6    8.8  14.3  17.6     19.3  18.7       14.9   \n",
       "18     -0.3      0.1   0.8    2.9   6.5   9.3     11.1  10.6        7.9   \n",
       "19      7.1      8.2  10.5   13.7  17.8  21.7     24.4  24.1       20.9   \n",
       "20     -1.4      0.8   4.9    9.3  13.8  17.0     18.9  18.7       15.2   \n",
       "21     -1.7      0.2   4.3    9.7  14.3  17.7     20.0  19.5       15.8   \n",
       "22     -3.5     -3.5  -1.3    3.5   9.2  14.6     17.2  16.0       11.7   \n",
       "23      3.1      2.9   6.2    8.9  12.9  15.5     17.9  17.6       14.7   \n",
       "24      9.1     10.3  11.8   14.1  17.4  21.2     24.2  24.1       21.7   \n",
       "25      5.6      6.7   9.0   11.9  15.0  18.3     20.4  20.0       17.6   \n",
       "26      2.9      3.6   4.7    7.1   9.9  13.0     14.7  14.3       12.1   \n",
       "27      0.2      1.8   5.4    9.7  14.3  17.5     19.0  18.3       14.8   \n",
       "28      0.1      1.9   5.1    9.4  13.8  17.3     19.4  18.5       15.0   \n",
       "29      8.7      8.7  11.4   13.8  17.5  21.0     24.5  24.6       21.8   \n",
       "30      1.1      3.6   8.0   12.6  17.3  21.3     23.8  22.8       18.9   \n",
       "31     10.5     11.5  13.3   16.9  20.9  23.8     24.5  22.3       22.3   \n",
       "32     10.7     11.8  14.1   16.1  19.7  23.4     26.7  26.7       24.3   \n",
       "33     -8.2     -7.9  -3.7    3.2  10.0  15.4     18.4  16.9       11.5   \n",
       "34     -0.7      0.7   4.3    8.5  12.9  16.2     18.0  17.2       14.1   \n",
       "\n",
       "    Octobre  Novembre  Décembre  \n",
       "0      11.4       7.0       4.4  \n",
       "1      19.2      14.6      11.0  \n",
       "2      10.0       4.2       1.2  \n",
       "3      11.1       6.7       4.4  \n",
       "4      11.3       5.1       0.7  \n",
       "5       8.8       4.1       1.3  \n",
       "6       9.7       6.7       5.4  \n",
       "7       5.2       0.1      -2.3  \n",
       "8       7.5       1.2      -3.6  \n",
       "9       8.6       2.6      -1.7  \n",
       "10     17.4      13.7      11.1  \n",
       "11     10.2       6.3       4.4  \n",
       "12     13.9       8.7       5.4  \n",
       "13      5.8       0.1      -4.2  \n",
       "14      5.1      -1.1      -6.0  \n",
       "15      5.7       0.5      -2.9  \n",
       "16     12.5       7.3       5.2  \n",
       "17      9.4       3.8       0.3  \n",
       "18      4.5       1.7       0.2  \n",
       "19     16.5      11.7       8.3  \n",
       "20     10.5       5.1       0.8  \n",
       "21     10.7       5.0       0.6  \n",
       "22      6.5       1.7      -1.6  \n",
       "23     11.5       6.8       4.7  \n",
       "24     17.5      13.1      10.0  \n",
       "25     13.5       8.5       6.1  \n",
       "26      8.7       5.3       3.7  \n",
       "27      9.8       4.9       1.7  \n",
       "28      9.8       4.9       1.4  \n",
       "29     17.8      12.2      10.0  \n",
       "30     13.1       6.9       2.6  \n",
       "31     18.4      14.9      12.0  \n",
       "32     19.4      14.5      11.2  \n",
       "33      5.2      -0.4      -5.3  \n",
       "34      8.9       3.9       0.3  "
      ]
     },
     "execution_count": 36,
     "metadata": {},
     "output_type": "execute_result"
    }
   ],
   "source": [
    "temp"
   ]
  },
  {
   "cell_type": "code",
   "execution_count": 37,
   "metadata": {},
   "outputs": [
    {
     "data": {
      "text/html": [
       "<div>\n",
       "<style scoped>\n",
       "    .dataframe tbody tr th:only-of-type {\n",
       "        vertical-align: middle;\n",
       "    }\n",
       "\n",
       "    .dataframe tbody tr th {\n",
       "        vertical-align: top;\n",
       "    }\n",
       "\n",
       "    .dataframe thead th {\n",
       "        text-align: right;\n",
       "    }\n",
       "</style>\n",
       "<table border=\"1\" class=\"dataframe\">\n",
       "  <thead>\n",
       "    <tr style=\"text-align: right;\">\n",
       "      <th></th>\n",
       "      <th>Janvier</th>\n",
       "      <th>Février</th>\n",
       "      <th>Mars</th>\n",
       "      <th>Avril</th>\n",
       "      <th>Mai</th>\n",
       "      <th>Juin</th>\n",
       "      <th>Juillet</th>\n",
       "      <th>Août</th>\n",
       "      <th>Septembre</th>\n",
       "      <th>Octobre</th>\n",
       "      <th>Novembre</th>\n",
       "      <th>Décembre</th>\n",
       "    </tr>\n",
       "  </thead>\n",
       "  <tbody>\n",
       "    <tr>\n",
       "      <td>16</td>\n",
       "      <td>3.7</td>\n",
       "      <td>3.7</td>\n",
       "      <td>7.3</td>\n",
       "      <td>9.7</td>\n",
       "      <td>13.7</td>\n",
       "      <td>16.5</td>\n",
       "      <td>19.0</td>\n",
       "      <td>18.7</td>\n",
       "      <td>16.1</td>\n",
       "      <td>12.5</td>\n",
       "      <td>7.3</td>\n",
       "      <td>5.2</td>\n",
       "    </tr>\n",
       "  </tbody>\n",
       "</table>\n",
       "</div>"
      ],
      "text/plain": [
       "    Janvier  Février  Mars  Avril   Mai  Juin  Juillet  Août  Septembre  \\\n",
       "16      3.7      3.7   7.3    9.7  13.7  16.5     19.0  18.7       16.1   \n",
       "\n",
       "    Octobre  Novembre  Décembre  \n",
       "16     12.5       7.3       5.2  "
      ]
     },
     "execution_count": 37,
     "metadata": {},
     "output_type": "execute_result"
    }
   ],
   "source": [
    "temp.iloc[data[data.Ville == 'Paris'].index ]"
   ]
  },
  {
   "cell_type": "markdown",
   "metadata": {},
   "source": [
    "On calcule les moyennes par colonne :"
   ]
  },
  {
   "cell_type": "code",
   "execution_count": 38,
   "metadata": {},
   "outputs": [],
   "source": [
    "moyennes = temp.mean()"
   ]
  },
  {
   "cell_type": "code",
   "execution_count": 39,
   "metadata": {},
   "outputs": [
    {
     "data": {
      "text/plain": [
       "Janvier       1.345714\n",
       "Février       2.217143\n",
       "Mars          5.228571\n",
       "Avril         9.282857\n",
       "Mai          13.911429\n",
       "Juin         17.414286\n",
       "Juillet      19.622857\n",
       "Août         18.980000\n",
       "Septembre    15.631429\n",
       "Octobre      11.002857\n",
       "Novembre      6.065714\n",
       "Décembre      2.880000\n",
       "dtype: float64"
      ]
     },
     "execution_count": 39,
     "metadata": {},
     "output_type": "execute_result"
    }
   ],
   "source": [
    "moyennes"
   ]
  },
  {
   "cell_type": "markdown",
   "metadata": {},
   "source": [
    "On centre les données :"
   ]
  },
  {
   "cell_type": "code",
   "execution_count": 40,
   "metadata": {},
   "outputs": [],
   "source": [
    "temp_centrees = temp - moyennes"
   ]
  },
  {
   "cell_type": "markdown",
   "metadata": {},
   "source": [
    "Que peut-on dire de la température à Paris (16ème ville) en janvier et en août par rapport à la moyenne ?"
   ]
  },
  {
   "cell_type": "code",
   "execution_count": 41,
   "metadata": {},
   "outputs": [
    {
     "data": {
      "text/plain": [
       "Janvier    2.354286\n",
       "Août      -0.280000\n",
       "Name: 16, dtype: float64"
      ]
     },
     "execution_count": 41,
     "metadata": {},
     "output_type": "execute_result"
    }
   ],
   "source": [
    "temp_centrees.iloc[16,[0,7]]"
   ]
  },
  {
   "cell_type": "markdown",
   "metadata": {},
   "source": [
    "La température à Paris est supérieure à la moyenne en janvier mais pas en août."
   ]
  },
  {
   "cell_type": "markdown",
   "metadata": {},
   "source": [
    "On calcule les écart types par colonne :"
   ]
  },
  {
   "cell_type": "code",
   "execution_count": 42,
   "metadata": {},
   "outputs": [
    {
     "data": {
      "text/plain": [
       "Janvier      5.422985\n",
       "Février      5.419831\n",
       "Mars         4.793065\n",
       "Avril        3.751684\n",
       "Mai          3.226477\n",
       "Juin         3.272495\n",
       "Juillet      3.523236\n",
       "Août         3.674297\n",
       "Septembre    4.050592\n",
       "Octobre      4.261018\n",
       "Novembre     4.501107\n",
       "Décembre     4.895934\n",
       "dtype: float64"
      ]
     },
     "execution_count": 42,
     "metadata": {},
     "output_type": "execute_result"
    }
   ],
   "source": [
    "temp.std(ddof=0)"
   ]
  },
  {
   "cell_type": "markdown",
   "metadata": {},
   "source": [
    "On réduit les données :"
   ]
  },
  {
   "cell_type": "code",
   "execution_count": 43,
   "metadata": {},
   "outputs": [],
   "source": [
    "temp_centreesreduites = temp_centrees/temp.std(ddof=0)"
   ]
  },
  {
   "cell_type": "code",
   "execution_count": 44,
   "metadata": {},
   "outputs": [
    {
     "data": {
      "text/html": [
       "<div>\n",
       "<style scoped>\n",
       "    .dataframe tbody tr th:only-of-type {\n",
       "        vertical-align: middle;\n",
       "    }\n",
       "\n",
       "    .dataframe tbody tr th {\n",
       "        vertical-align: top;\n",
       "    }\n",
       "\n",
       "    .dataframe thead th {\n",
       "        text-align: right;\n",
       "    }\n",
       "</style>\n",
       "<table border=\"1\" class=\"dataframe\">\n",
       "  <thead>\n",
       "    <tr style=\"text-align: right;\">\n",
       "      <th></th>\n",
       "      <th>Janvier</th>\n",
       "      <th>Février</th>\n",
       "      <th>Mars</th>\n",
       "      <th>Avril</th>\n",
       "      <th>Mai</th>\n",
       "      <th>Juin</th>\n",
       "      <th>Juillet</th>\n",
       "      <th>Août</th>\n",
       "      <th>Septembre</th>\n",
       "      <th>Octobre</th>\n",
       "      <th>Novembre</th>\n",
       "      <th>Décembre</th>\n",
       "    </tr>\n",
       "  </thead>\n",
       "  <tbody>\n",
       "    <tr>\n",
       "      <td>0</td>\n",
       "      <td>0.286611</td>\n",
       "      <td>0.052189</td>\n",
       "      <td>0.098356</td>\n",
       "      <td>-0.288632</td>\n",
       "      <td>-0.437452</td>\n",
       "      <td>-0.798866</td>\n",
       "      <td>-0.716062</td>\n",
       "      <td>-0.511663</td>\n",
       "      <td>-0.279324</td>\n",
       "      <td>0.093204</td>\n",
       "      <td>0.207568</td>\n",
       "      <td>0.310462</td>\n",
       "    </tr>\n",
       "    <tr>\n",
       "      <td>1</td>\n",
       "      <td>1.429892</td>\n",
       "      <td>1.380644</td>\n",
       "      <td>1.350165</td>\n",
       "      <td>1.630506</td>\n",
       "      <td>1.918058</td>\n",
       "      <td>2.165233</td>\n",
       "      <td>2.207386</td>\n",
       "      <td>2.237163</td>\n",
       "      <td>2.016636</td>\n",
       "      <td>1.923752</td>\n",
       "      <td>1.896041</td>\n",
       "      <td>1.658519</td>\n",
       "    </tr>\n",
       "    <tr>\n",
       "      <td>2</td>\n",
       "      <td>-0.285030</td>\n",
       "      <td>-0.390629</td>\n",
       "      <td>-0.172869</td>\n",
       "      <td>-0.288632</td>\n",
       "      <td>-0.034536</td>\n",
       "      <td>-0.432174</td>\n",
       "      <td>-0.375467</td>\n",
       "      <td>-0.266718</td>\n",
       "      <td>-0.304012</td>\n",
       "      <td>-0.235356</td>\n",
       "      <td>-0.414501</td>\n",
       "      <td>-0.343142</td>\n",
       "    </tr>\n",
       "    <tr>\n",
       "      <td>3</td>\n",
       "      <td>0.360371</td>\n",
       "      <td>0.199795</td>\n",
       "      <td>0.306991</td>\n",
       "      <td>-0.102049</td>\n",
       "      <td>-0.344471</td>\n",
       "      <td>-0.554404</td>\n",
       "      <td>-0.517382</td>\n",
       "      <td>-0.321150</td>\n",
       "      <td>-0.155885</td>\n",
       "      <td>0.022798</td>\n",
       "      <td>0.140918</td>\n",
       "      <td>0.310462</td>\n",
       "    </tr>\n",
       "    <tr>\n",
       "      <td>4</td>\n",
       "      <td>-0.450990</td>\n",
       "      <td>-0.261474</td>\n",
       "      <td>0.056629</td>\n",
       "      <td>0.617627</td>\n",
       "      <td>0.957258</td>\n",
       "      <td>0.851251</td>\n",
       "      <td>0.674704</td>\n",
       "      <td>0.631413</td>\n",
       "      <td>0.313182</td>\n",
       "      <td>0.069735</td>\n",
       "      <td>-0.214550</td>\n",
       "      <td>-0.445267</td>\n",
       "    </tr>\n",
       "    <tr>\n",
       "      <td>5</td>\n",
       "      <td>-0.321910</td>\n",
       "      <td>-0.482883</td>\n",
       "      <td>-0.819637</td>\n",
       "      <td>-0.928345</td>\n",
       "      <td>-0.871362</td>\n",
       "      <td>-0.615520</td>\n",
       "      <td>-0.716062</td>\n",
       "      <td>-0.647743</td>\n",
       "      <td>-0.575577</td>\n",
       "      <td>-0.516979</td>\n",
       "      <td>-0.436718</td>\n",
       "      <td>-0.322717</td>\n",
       "    </tr>\n",
       "    <tr>\n",
       "      <td>6</td>\n",
       "      <td>0.636971</td>\n",
       "      <td>0.513458</td>\n",
       "      <td>0.140083</td>\n",
       "      <td>-0.395251</td>\n",
       "      <td>-1.088317</td>\n",
       "      <td>-1.257232</td>\n",
       "      <td>-1.312105</td>\n",
       "      <td>-1.192065</td>\n",
       "      <td>-0.723704</td>\n",
       "      <td>-0.305762</td>\n",
       "      <td>0.140918</td>\n",
       "      <td>0.514713</td>\n",
       "    </tr>\n",
       "    <tr>\n",
       "      <td>7</td>\n",
       "      <td>-1.317672</td>\n",
       "      <td>-1.553027</td>\n",
       "      <td>-1.654176</td>\n",
       "      <td>-1.648022</td>\n",
       "      <td>-1.150304</td>\n",
       "      <td>-1.043328</td>\n",
       "      <td>-0.687679</td>\n",
       "      <td>-1.110417</td>\n",
       "      <td>-1.464336</td>\n",
       "      <td>-1.361847</td>\n",
       "      <td>-1.325388</td>\n",
       "      <td>-1.058021</td>\n",
       "    </tr>\n",
       "    <tr>\n",
       "      <td>8</td>\n",
       "      <td>-1.336112</td>\n",
       "      <td>-1.331618</td>\n",
       "      <td>-1.153452</td>\n",
       "      <td>-0.501870</td>\n",
       "      <td>0.120432</td>\n",
       "      <td>0.117866</td>\n",
       "      <td>-0.063254</td>\n",
       "      <td>-0.130637</td>\n",
       "      <td>-0.476826</td>\n",
       "      <td>-0.822070</td>\n",
       "      <td>-1.081004</td>\n",
       "      <td>-1.323547</td>\n",
       "    </tr>\n",
       "    <tr>\n",
       "      <td>9</td>\n",
       "      <td>-0.930431</td>\n",
       "      <td>-0.778095</td>\n",
       "      <td>-0.694456</td>\n",
       "      <td>-0.368596</td>\n",
       "      <td>-0.220497</td>\n",
       "      <td>-0.157154</td>\n",
       "      <td>-0.347084</td>\n",
       "      <td>-0.375582</td>\n",
       "      <td>-0.476826</td>\n",
       "      <td>-0.563916</td>\n",
       "      <td>-0.769969</td>\n",
       "      <td>-0.935470</td>\n",
       "    </tr>\n",
       "    <tr>\n",
       "      <td>10</td>\n",
       "      <td>1.688053</td>\n",
       "      <td>1.675856</td>\n",
       "      <td>1.579663</td>\n",
       "      <td>1.390614</td>\n",
       "      <td>0.864277</td>\n",
       "      <td>0.606789</td>\n",
       "      <td>0.532789</td>\n",
       "      <td>0.794710</td>\n",
       "      <td>1.177253</td>\n",
       "      <td>1.501318</td>\n",
       "      <td>1.696091</td>\n",
       "      <td>1.678944</td>\n",
       "    </tr>\n",
       "    <tr>\n",
       "      <td>11</td>\n",
       "      <td>0.378811</td>\n",
       "      <td>0.365852</td>\n",
       "      <td>0.056629</td>\n",
       "      <td>-0.261978</td>\n",
       "      <td>-0.623413</td>\n",
       "      <td>-0.707193</td>\n",
       "      <td>-0.772828</td>\n",
       "      <td>-0.674959</td>\n",
       "      <td>-0.402763</td>\n",
       "      <td>-0.188419</td>\n",
       "      <td>0.052051</td>\n",
       "      <td>0.310462</td>\n",
       "    </tr>\n",
       "    <tr>\n",
       "      <td>12</td>\n",
       "      <td>0.673851</td>\n",
       "      <td>0.808671</td>\n",
       "      <td>0.870305</td>\n",
       "      <td>0.777556</td>\n",
       "      <td>0.647323</td>\n",
       "      <td>1.034597</td>\n",
       "      <td>1.441045</td>\n",
       "      <td>1.447896</td>\n",
       "      <td>1.029126</td>\n",
       "      <td>0.679918</td>\n",
       "      <td>0.585253</td>\n",
       "      <td>0.514713</td>\n",
       "    </tr>\n",
       "    <tr>\n",
       "      <td>13</td>\n",
       "      <td>-1.520512</td>\n",
       "      <td>-1.553027</td>\n",
       "      <td>-1.487268</td>\n",
       "      <td>-1.034964</td>\n",
       "      <td>-0.468445</td>\n",
       "      <td>-0.462731</td>\n",
       "      <td>-0.630913</td>\n",
       "      <td>-0.729391</td>\n",
       "      <td>-0.995269</td>\n",
       "      <td>-1.221036</td>\n",
       "      <td>-1.325388</td>\n",
       "      <td>-1.446098</td>\n",
       "    </tr>\n",
       "    <tr>\n",
       "      <td>14</td>\n",
       "      <td>-1.963073</td>\n",
       "      <td>-1.811338</td>\n",
       "      <td>-1.508131</td>\n",
       "      <td>-0.875036</td>\n",
       "      <td>-0.282484</td>\n",
       "      <td>-0.248827</td>\n",
       "      <td>-0.375467</td>\n",
       "      <td>-0.620527</td>\n",
       "      <td>-1.094020</td>\n",
       "      <td>-1.385316</td>\n",
       "      <td>-1.591989</td>\n",
       "      <td>-1.813750</td>\n",
       "    </tr>\n",
       "    <tr>\n",
       "      <td>15</td>\n",
       "      <td>-1.041071</td>\n",
       "      <td>-1.110209</td>\n",
       "      <td>-1.216043</td>\n",
       "      <td>-1.301511</td>\n",
       "      <td>-1.119310</td>\n",
       "      <td>-0.768308</td>\n",
       "      <td>-0.772828</td>\n",
       "      <td>-0.974336</td>\n",
       "      <td>-1.118708</td>\n",
       "      <td>-1.244505</td>\n",
       "      <td>-1.236521</td>\n",
       "      <td>-1.180571</td>\n",
       "    </tr>\n",
       "    <tr>\n",
       "      <td>16</td>\n",
       "      <td>0.434131</td>\n",
       "      <td>0.273598</td>\n",
       "      <td>0.432172</td>\n",
       "      <td>0.111188</td>\n",
       "      <td>-0.065529</td>\n",
       "      <td>-0.279385</td>\n",
       "      <td>-0.176786</td>\n",
       "      <td>-0.076205</td>\n",
       "      <td>0.115680</td>\n",
       "      <td>0.351358</td>\n",
       "      <td>0.274218</td>\n",
       "      <td>0.473863</td>\n",
       "    </tr>\n",
       "    <tr>\n",
       "      <td>17</td>\n",
       "      <td>-0.487870</td>\n",
       "      <td>-0.372178</td>\n",
       "      <td>-0.339777</td>\n",
       "      <td>-0.128704</td>\n",
       "      <td>0.120432</td>\n",
       "      <td>0.056750</td>\n",
       "      <td>-0.091637</td>\n",
       "      <td>-0.076205</td>\n",
       "      <td>-0.180573</td>\n",
       "      <td>-0.376168</td>\n",
       "      <td>-0.503368</td>\n",
       "      <td>-0.526968</td>\n",
       "    </tr>\n",
       "    <tr>\n",
       "      <td>18</td>\n",
       "      <td>-0.303470</td>\n",
       "      <td>-0.390629</td>\n",
       "      <td>-0.923954</td>\n",
       "      <td>-1.701331</td>\n",
       "      <td>-2.297065</td>\n",
       "      <td>-2.479541</td>\n",
       "      <td>-2.419042</td>\n",
       "      <td>-2.280709</td>\n",
       "      <td>-1.908716</td>\n",
       "      <td>-1.526127</td>\n",
       "      <td>-0.969920</td>\n",
       "      <td>-0.547393</td>\n",
       "    </tr>\n",
       "    <tr>\n",
       "      <td>19</td>\n",
       "      <td>1.061092</td>\n",
       "      <td>1.103883</td>\n",
       "      <td>1.099803</td>\n",
       "      <td>1.177376</td>\n",
       "      <td>1.205207</td>\n",
       "      <td>1.309617</td>\n",
       "      <td>1.355896</td>\n",
       "      <td>1.393464</td>\n",
       "      <td>1.300692</td>\n",
       "      <td>1.290101</td>\n",
       "      <td>1.251755</td>\n",
       "      <td>1.107041</td>\n",
       "    </tr>\n",
       "    <tr>\n",
       "      <td>20</td>\n",
       "      <td>-0.506310</td>\n",
       "      <td>-0.261474</td>\n",
       "      <td>-0.068551</td>\n",
       "      <td>0.004569</td>\n",
       "      <td>-0.034536</td>\n",
       "      <td>-0.126596</td>\n",
       "      <td>-0.205169</td>\n",
       "      <td>-0.076205</td>\n",
       "      <td>-0.106510</td>\n",
       "      <td>-0.118013</td>\n",
       "      <td>-0.214550</td>\n",
       "      <td>-0.424842</td>\n",
       "    </tr>\n",
       "    <tr>\n",
       "      <td>21</td>\n",
       "      <td>-0.561631</td>\n",
       "      <td>-0.372178</td>\n",
       "      <td>-0.193732</td>\n",
       "      <td>0.111188</td>\n",
       "      <td>0.120432</td>\n",
       "      <td>0.087308</td>\n",
       "      <td>0.107044</td>\n",
       "      <td>0.141524</td>\n",
       "      <td>0.041616</td>\n",
       "      <td>-0.071076</td>\n",
       "      <td>-0.236767</td>\n",
       "      <td>-0.465693</td>\n",
       "    </tr>\n",
       "    <tr>\n",
       "      <td>22</td>\n",
       "      <td>-0.893551</td>\n",
       "      <td>-1.054856</td>\n",
       "      <td>-1.362087</td>\n",
       "      <td>-1.541403</td>\n",
       "      <td>-1.460239</td>\n",
       "      <td>-0.859982</td>\n",
       "      <td>-0.687679</td>\n",
       "      <td>-0.811040</td>\n",
       "      <td>-0.970581</td>\n",
       "      <td>-1.056756</td>\n",
       "      <td>-0.969920</td>\n",
       "      <td>-0.915045</td>\n",
       "    </tr>\n",
       "    <tr>\n",
       "      <td>23</td>\n",
       "      <td>0.323491</td>\n",
       "      <td>0.125992</td>\n",
       "      <td>0.202674</td>\n",
       "      <td>-0.102049</td>\n",
       "      <td>-0.313478</td>\n",
       "      <td>-0.584962</td>\n",
       "      <td>-0.488999</td>\n",
       "      <td>-0.375582</td>\n",
       "      <td>-0.229949</td>\n",
       "      <td>0.116672</td>\n",
       "      <td>0.163134</td>\n",
       "      <td>0.371737</td>\n",
       "    </tr>\n",
       "    <tr>\n",
       "      <td>24</td>\n",
       "      <td>1.429892</td>\n",
       "      <td>1.491349</td>\n",
       "      <td>1.371029</td>\n",
       "      <td>1.283995</td>\n",
       "      <td>1.081232</td>\n",
       "      <td>1.156828</td>\n",
       "      <td>1.299130</td>\n",
       "      <td>1.393464</td>\n",
       "      <td>1.498194</td>\n",
       "      <td>1.524786</td>\n",
       "      <td>1.562790</td>\n",
       "      <td>1.454268</td>\n",
       "    </tr>\n",
       "    <tr>\n",
       "      <td>25</td>\n",
       "      <td>0.784492</td>\n",
       "      <td>0.827121</td>\n",
       "      <td>0.786851</td>\n",
       "      <td>0.697591</td>\n",
       "      <td>0.337387</td>\n",
       "      <td>0.270654</td>\n",
       "      <td>0.220576</td>\n",
       "      <td>0.277604</td>\n",
       "      <td>0.485996</td>\n",
       "      <td>0.586044</td>\n",
       "      <td>0.540819</td>\n",
       "      <td>0.657689</td>\n",
       "    </tr>\n",
       "    <tr>\n",
       "      <td>26</td>\n",
       "      <td>0.286611</td>\n",
       "      <td>0.255148</td>\n",
       "      <td>-0.110278</td>\n",
       "      <td>-0.581834</td>\n",
       "      <td>-1.243284</td>\n",
       "      <td>-1.348905</td>\n",
       "      <td>-1.397254</td>\n",
       "      <td>-1.273713</td>\n",
       "      <td>-0.871830</td>\n",
       "      <td>-0.540448</td>\n",
       "      <td>-0.170117</td>\n",
       "      <td>0.167486</td>\n",
       "    </tr>\n",
       "    <tr>\n",
       "      <td>27</td>\n",
       "      <td>-0.211270</td>\n",
       "      <td>-0.076966</td>\n",
       "      <td>0.035766</td>\n",
       "      <td>0.111188</td>\n",
       "      <td>0.120432</td>\n",
       "      <td>0.026192</td>\n",
       "      <td>-0.176786</td>\n",
       "      <td>-0.185069</td>\n",
       "      <td>-0.205261</td>\n",
       "      <td>-0.282293</td>\n",
       "      <td>-0.258984</td>\n",
       "      <td>-0.241016</td>\n",
       "    </tr>\n",
       "    <tr>\n",
       "      <td>28</td>\n",
       "      <td>-0.229710</td>\n",
       "      <td>-0.058515</td>\n",
       "      <td>-0.026824</td>\n",
       "      <td>0.031224</td>\n",
       "      <td>-0.034536</td>\n",
       "      <td>-0.034923</td>\n",
       "      <td>-0.063254</td>\n",
       "      <td>-0.130637</td>\n",
       "      <td>-0.155885</td>\n",
       "      <td>-0.282293</td>\n",
       "      <td>-0.258984</td>\n",
       "      <td>-0.302292</td>\n",
       "    </tr>\n",
       "    <tr>\n",
       "      <td>29</td>\n",
       "      <td>1.356132</td>\n",
       "      <td>1.196136</td>\n",
       "      <td>1.287575</td>\n",
       "      <td>1.204031</td>\n",
       "      <td>1.112226</td>\n",
       "      <td>1.095713</td>\n",
       "      <td>1.384279</td>\n",
       "      <td>1.529544</td>\n",
       "      <td>1.522881</td>\n",
       "      <td>1.595192</td>\n",
       "      <td>1.362839</td>\n",
       "      <td>1.454268</td>\n",
       "    </tr>\n",
       "    <tr>\n",
       "      <td>30</td>\n",
       "      <td>-0.045310</td>\n",
       "      <td>0.255148</td>\n",
       "      <td>0.578216</td>\n",
       "      <td>0.884174</td>\n",
       "      <td>1.050239</td>\n",
       "      <td>1.187386</td>\n",
       "      <td>1.185598</td>\n",
       "      <td>1.039655</td>\n",
       "      <td>0.806937</td>\n",
       "      <td>0.492169</td>\n",
       "      <td>0.185351</td>\n",
       "      <td>-0.057190</td>\n",
       "    </tr>\n",
       "    <tr>\n",
       "      <td>31</td>\n",
       "      <td>1.688053</td>\n",
       "      <td>1.712758</td>\n",
       "      <td>1.683981</td>\n",
       "      <td>2.030326</td>\n",
       "      <td>2.166007</td>\n",
       "      <td>1.951329</td>\n",
       "      <td>1.384279</td>\n",
       "      <td>0.903574</td>\n",
       "      <td>1.646320</td>\n",
       "      <td>1.736004</td>\n",
       "      <td>1.962692</td>\n",
       "      <td>1.862770</td>\n",
       "    </tr>\n",
       "    <tr>\n",
       "      <td>32</td>\n",
       "      <td>1.724933</td>\n",
       "      <td>1.768110</td>\n",
       "      <td>1.850889</td>\n",
       "      <td>1.817089</td>\n",
       "      <td>1.794084</td>\n",
       "      <td>1.829098</td>\n",
       "      <td>2.008705</td>\n",
       "      <td>2.101082</td>\n",
       "      <td>2.140075</td>\n",
       "      <td>1.970689</td>\n",
       "      <td>1.873825</td>\n",
       "      <td>1.699369</td>\n",
       "    </tr>\n",
       "    <tr>\n",
       "      <td>33</td>\n",
       "      <td>-1.760232</td>\n",
       "      <td>-1.866690</td>\n",
       "      <td>-1.862811</td>\n",
       "      <td>-1.621367</td>\n",
       "      <td>-1.212291</td>\n",
       "      <td>-0.615520</td>\n",
       "      <td>-0.347084</td>\n",
       "      <td>-0.566095</td>\n",
       "      <td>-1.019957</td>\n",
       "      <td>-1.361847</td>\n",
       "      <td>-1.436472</td>\n",
       "      <td>-1.670774</td>\n",
       "    </tr>\n",
       "    <tr>\n",
       "      <td>34</td>\n",
       "      <td>-0.377230</td>\n",
       "      <td>-0.279924</td>\n",
       "      <td>-0.193732</td>\n",
       "      <td>-0.208668</td>\n",
       "      <td>-0.313478</td>\n",
       "      <td>-0.371058</td>\n",
       "      <td>-0.460616</td>\n",
       "      <td>-0.484446</td>\n",
       "      <td>-0.378075</td>\n",
       "      <td>-0.493510</td>\n",
       "      <td>-0.481151</td>\n",
       "      <td>-0.526968</td>\n",
       "    </tr>\n",
       "  </tbody>\n",
       "</table>\n",
       "</div>"
      ],
      "text/plain": [
       "     Janvier   Février      Mars     Avril       Mai      Juin   Juillet  \\\n",
       "0   0.286611  0.052189  0.098356 -0.288632 -0.437452 -0.798866 -0.716062   \n",
       "1   1.429892  1.380644  1.350165  1.630506  1.918058  2.165233  2.207386   \n",
       "2  -0.285030 -0.390629 -0.172869 -0.288632 -0.034536 -0.432174 -0.375467   \n",
       "3   0.360371  0.199795  0.306991 -0.102049 -0.344471 -0.554404 -0.517382   \n",
       "4  -0.450990 -0.261474  0.056629  0.617627  0.957258  0.851251  0.674704   \n",
       "5  -0.321910 -0.482883 -0.819637 -0.928345 -0.871362 -0.615520 -0.716062   \n",
       "6   0.636971  0.513458  0.140083 -0.395251 -1.088317 -1.257232 -1.312105   \n",
       "7  -1.317672 -1.553027 -1.654176 -1.648022 -1.150304 -1.043328 -0.687679   \n",
       "8  -1.336112 -1.331618 -1.153452 -0.501870  0.120432  0.117866 -0.063254   \n",
       "9  -0.930431 -0.778095 -0.694456 -0.368596 -0.220497 -0.157154 -0.347084   \n",
       "10  1.688053  1.675856  1.579663  1.390614  0.864277  0.606789  0.532789   \n",
       "11  0.378811  0.365852  0.056629 -0.261978 -0.623413 -0.707193 -0.772828   \n",
       "12  0.673851  0.808671  0.870305  0.777556  0.647323  1.034597  1.441045   \n",
       "13 -1.520512 -1.553027 -1.487268 -1.034964 -0.468445 -0.462731 -0.630913   \n",
       "14 -1.963073 -1.811338 -1.508131 -0.875036 -0.282484 -0.248827 -0.375467   \n",
       "15 -1.041071 -1.110209 -1.216043 -1.301511 -1.119310 -0.768308 -0.772828   \n",
       "16  0.434131  0.273598  0.432172  0.111188 -0.065529 -0.279385 -0.176786   \n",
       "17 -0.487870 -0.372178 -0.339777 -0.128704  0.120432  0.056750 -0.091637   \n",
       "18 -0.303470 -0.390629 -0.923954 -1.701331 -2.297065 -2.479541 -2.419042   \n",
       "19  1.061092  1.103883  1.099803  1.177376  1.205207  1.309617  1.355896   \n",
       "20 -0.506310 -0.261474 -0.068551  0.004569 -0.034536 -0.126596 -0.205169   \n",
       "21 -0.561631 -0.372178 -0.193732  0.111188  0.120432  0.087308  0.107044   \n",
       "22 -0.893551 -1.054856 -1.362087 -1.541403 -1.460239 -0.859982 -0.687679   \n",
       "23  0.323491  0.125992  0.202674 -0.102049 -0.313478 -0.584962 -0.488999   \n",
       "24  1.429892  1.491349  1.371029  1.283995  1.081232  1.156828  1.299130   \n",
       "25  0.784492  0.827121  0.786851  0.697591  0.337387  0.270654  0.220576   \n",
       "26  0.286611  0.255148 -0.110278 -0.581834 -1.243284 -1.348905 -1.397254   \n",
       "27 -0.211270 -0.076966  0.035766  0.111188  0.120432  0.026192 -0.176786   \n",
       "28 -0.229710 -0.058515 -0.026824  0.031224 -0.034536 -0.034923 -0.063254   \n",
       "29  1.356132  1.196136  1.287575  1.204031  1.112226  1.095713  1.384279   \n",
       "30 -0.045310  0.255148  0.578216  0.884174  1.050239  1.187386  1.185598   \n",
       "31  1.688053  1.712758  1.683981  2.030326  2.166007  1.951329  1.384279   \n",
       "32  1.724933  1.768110  1.850889  1.817089  1.794084  1.829098  2.008705   \n",
       "33 -1.760232 -1.866690 -1.862811 -1.621367 -1.212291 -0.615520 -0.347084   \n",
       "34 -0.377230 -0.279924 -0.193732 -0.208668 -0.313478 -0.371058 -0.460616   \n",
       "\n",
       "        Août  Septembre   Octobre  Novembre  Décembre  \n",
       "0  -0.511663  -0.279324  0.093204  0.207568  0.310462  \n",
       "1   2.237163   2.016636  1.923752  1.896041  1.658519  \n",
       "2  -0.266718  -0.304012 -0.235356 -0.414501 -0.343142  \n",
       "3  -0.321150  -0.155885  0.022798  0.140918  0.310462  \n",
       "4   0.631413   0.313182  0.069735 -0.214550 -0.445267  \n",
       "5  -0.647743  -0.575577 -0.516979 -0.436718 -0.322717  \n",
       "6  -1.192065  -0.723704 -0.305762  0.140918  0.514713  \n",
       "7  -1.110417  -1.464336 -1.361847 -1.325388 -1.058021  \n",
       "8  -0.130637  -0.476826 -0.822070 -1.081004 -1.323547  \n",
       "9  -0.375582  -0.476826 -0.563916 -0.769969 -0.935470  \n",
       "10  0.794710   1.177253  1.501318  1.696091  1.678944  \n",
       "11 -0.674959  -0.402763 -0.188419  0.052051  0.310462  \n",
       "12  1.447896   1.029126  0.679918  0.585253  0.514713  \n",
       "13 -0.729391  -0.995269 -1.221036 -1.325388 -1.446098  \n",
       "14 -0.620527  -1.094020 -1.385316 -1.591989 -1.813750  \n",
       "15 -0.974336  -1.118708 -1.244505 -1.236521 -1.180571  \n",
       "16 -0.076205   0.115680  0.351358  0.274218  0.473863  \n",
       "17 -0.076205  -0.180573 -0.376168 -0.503368 -0.526968  \n",
       "18 -2.280709  -1.908716 -1.526127 -0.969920 -0.547393  \n",
       "19  1.393464   1.300692  1.290101  1.251755  1.107041  \n",
       "20 -0.076205  -0.106510 -0.118013 -0.214550 -0.424842  \n",
       "21  0.141524   0.041616 -0.071076 -0.236767 -0.465693  \n",
       "22 -0.811040  -0.970581 -1.056756 -0.969920 -0.915045  \n",
       "23 -0.375582  -0.229949  0.116672  0.163134  0.371737  \n",
       "24  1.393464   1.498194  1.524786  1.562790  1.454268  \n",
       "25  0.277604   0.485996  0.586044  0.540819  0.657689  \n",
       "26 -1.273713  -0.871830 -0.540448 -0.170117  0.167486  \n",
       "27 -0.185069  -0.205261 -0.282293 -0.258984 -0.241016  \n",
       "28 -0.130637  -0.155885 -0.282293 -0.258984 -0.302292  \n",
       "29  1.529544   1.522881  1.595192  1.362839  1.454268  \n",
       "30  1.039655   0.806937  0.492169  0.185351 -0.057190  \n",
       "31  0.903574   1.646320  1.736004  1.962692  1.862770  \n",
       "32  2.101082   2.140075  1.970689  1.873825  1.699369  \n",
       "33 -0.566095  -1.019957 -1.361847 -1.436472 -1.670774  \n",
       "34 -0.484446  -0.378075 -0.493510 -0.481151 -0.526968  "
      ]
     },
     "execution_count": 44,
     "metadata": {},
     "output_type": "execute_result"
    }
   ],
   "source": [
    "temp_centreesreduites"
   ]
  },
  {
   "cell_type": "markdown",
   "metadata": {},
   "source": [
    "Nous pouvons désormais réaliser une Analyse en Composantes Principales sur des données centrées réduites (normées).\n",
    "\n",
    "Le tableau peut-être analysé à travers ses lignes (les individus) ou les colonnes (les variables). \n",
    "- Typologie des individus : il existe une variabilité de températures entre les villes => on veut former des groupes de villes semblables ;\n",
    "- Typologie des variables : il existe des variables corrélées => on veut former des groupes de variables corrélées.\n",
    "\n",
    "**Quels groupes de variables expliquent le mieux la variabilité entre les individus ?**"
   ]
  },
  {
   "cell_type": "code",
   "execution_count": 45,
   "metadata": {},
   "outputs": [],
   "source": [
    "tableau = temp_centreesreduites"
   ]
  },
  {
   "cell_type": "markdown",
   "metadata": {},
   "source": [
    "### Nuage des individus\n",
    "Un individu (une ville) est un point de $\\mathbb{R}^{12}$ (espace à 12 dimensions). On cherche à identifier les groupes de points proches et les points isolés. Le nuage de points peut avoir une certaine forme, des directions d'allongement en particulier. Il faut définir une **distance** entre les points.\n",
    "\n",
    "On choisit une métrique euclidienne : la distance (au carré) entre deux individus $i$ et $j$ est \n",
    "$$d^2(i,j) = \\sum_{k=1}^{12} (x_{i,k}-x_{j,k})^2$$"
   ]
  },
  {
   "cell_type": "markdown",
   "metadata": {},
   "source": [
    "Laquelle est de ces deux villes (Athènes et Paris) est la plus éloignée d'Amsterdam ?"
   ]
  },
  {
   "cell_type": "code",
   "execution_count": 46,
   "metadata": {},
   "outputs": [
    {
     "data": {
      "text/plain": [
       "1.4845174676147137"
      ]
     },
     "execution_count": 46,
     "metadata": {},
     "output_type": "execute_result"
    }
   ],
   "source": [
    "sum((tableau.iloc[0,:]-tableau.iloc[16,:])**2) #distance avec Paris"
   ]
  },
  {
   "cell_type": "code",
   "execution_count": 47,
   "metadata": {},
   "outputs": [
    {
     "data": {
      "text/plain": [
       "52.049449343463344"
      ]
     },
     "execution_count": 47,
     "metadata": {},
     "output_type": "execute_result"
    }
   ],
   "source": [
    "sum((tableau.iloc[0,:]-tableau.iloc[1,:])**2) #distance avec Amsterdam"
   ]
  },
  {
   "cell_type": "markdown",
   "metadata": {},
   "source": [
    "### Nuage des variables\n",
    "Chaque colonne (un mois) est un vecteur de $\\mathbb{R}^{35}$. Le nuage contient $12$ vecteurs et chaque axe de sa représentation correspond à une ville.\n",
    "\n",
    "On choisit de même une norme euclidienne et le produit scalaire usuel. Ainsi, le produit scalaire entre deux colonnes $i$ et $j$ est :\n",
    "$$<X_i,X_j> = \\sum_{k=1}^{35} x_{k,i}x_{k,j}$$\n",
    "\n",
    "Du fait que chaque valeur $x_{k,i}$ est une donnée centrée et réduite, on reconnait la définition du coefficient de corrélation linéaire :\n",
    "$$cor(X_i,X_j) = \\frac{1}{n} <X_i,X_j>$$\n",
    "\n",
    "https://fr.wikipedia.org/wiki/Corr%C3%A9lation_(statistiques)#Coefficient_de_corr%C3%A9lation_lin%C3%A9aire_de_Bravais-Pearson\n",
    "\n",
    "Du fait que les valeurs du tableau sont réduites, la norme de chaque colonne est égale à 1. On peut donc visualiser l'ensemble des 12 vecteurs sur la sphère unité de $\\mathbb{R}^{35}$.\n",
    "\n",
    "L'angle formé entre deux vecteurs renseigne la corrélation entre les deux variables correspondantes."
   ]
  },
  {
   "cell_type": "markdown",
   "metadata": {},
   "source": [
    "### Matrice de corrélation et inertie\n",
    "\n",
    "On pose $M$ la matrice des variables centrées et réduites. Alors $M^T \\cdot M$ est la matrice de corrélation."
   ]
  },
  {
   "cell_type": "code",
   "execution_count": 48,
   "metadata": {},
   "outputs": [],
   "source": [
    "import numpy as np\n",
    "import seaborn as sn\n",
    "import matplotlib.pyplot as plt"
   ]
  },
  {
   "cell_type": "code",
   "execution_count": 49,
   "metadata": {},
   "outputs": [],
   "source": [
    "M = np.array(tableau)"
   ]
  },
  {
   "cell_type": "code",
   "execution_count": 50,
   "metadata": {},
   "outputs": [],
   "source": [
    "corr = np.dot(M.transpose(),M)"
   ]
  },
  {
   "cell_type": "markdown",
   "metadata": {},
   "source": [
    "La matrice de corrélation est symétrique réelle donc diagonalisable dans une base orthonormée."
   ]
  },
  {
   "cell_type": "markdown",
   "metadata": {},
   "source": [
    "D'autre part, on pose $X$ la matrice des variables centrées (non réduites). Alors $\\frac{1}{35}X^T \\cdot X$ est la matrice de covariance."
   ]
  },
  {
   "cell_type": "code",
   "execution_count": 51,
   "metadata": {},
   "outputs": [],
   "source": [
    "X = np.array(temp_centrees)\n",
    "var = np.dot(X.transpose(),X)/35"
   ]
  },
  {
   "cell_type": "markdown",
   "metadata": {},
   "source": [
    "L'inertie totale est la trace (somme des éléments diagonaux) de la matrice de covariance :"
   ]
  },
  {
   "cell_type": "code",
   "execution_count": 52,
   "metadata": {},
   "outputs": [
    {
     "name": "stdout",
     "output_type": "stream",
     "text": [
      "221.6586775510204\n"
     ]
    }
   ],
   "source": [
    "inertie = np.trace(var)\n",
    "print(inertie)"
   ]
  },
  {
   "cell_type": "markdown",
   "metadata": {},
   "source": [
    "On peut vérifier que l'inertie totale est aussi la somme des variances de chaque colonne :"
   ]
  },
  {
   "cell_type": "code",
   "execution_count": 53,
   "metadata": {},
   "outputs": [
    {
     "data": {
      "text/plain": [
       "Janvier      29.408767\n",
       "Février      29.374563\n",
       "Mars         22.973469\n",
       "Avril        14.075135\n",
       "Mai          10.410155\n",
       "Juin         10.709224\n",
       "Juillet      12.413192\n",
       "Août         13.500457\n",
       "Septembre    16.407298\n",
       "Octobre      18.156278\n",
       "Novembre     20.259967\n",
       "Décembre     23.970171\n",
       "dtype: float64"
      ]
     },
     "execution_count": 53,
     "metadata": {},
     "output_type": "execute_result"
    }
   ],
   "source": [
    "temp_centrees.var(ddof=0)"
   ]
  },
  {
   "cell_type": "code",
   "execution_count": 54,
   "metadata": {},
   "outputs": [
    {
     "data": {
      "text/plain": [
       "221.65867755102036"
      ]
     },
     "execution_count": 54,
     "metadata": {},
     "output_type": "execute_result"
    }
   ],
   "source": [
    "sum(temp_centrees.var(ddof=0))"
   ]
  },
  {
   "cell_type": "code",
   "execution_count": null,
   "metadata": {},
   "outputs": [],
   "source": [
    "sn.heatmap(var, annot=False, fmt='g')\n",
    "plt.show()"
   ]
  },
  {
   "cell_type": "markdown",
   "metadata": {},
   "source": [
    "On cherche maintenant les vecteurs propres et les valeurs propres de la matrice de covariance :"
   ]
  },
  {
   "cell_type": "code",
   "execution_count": 55,
   "metadata": {},
   "outputs": [],
   "source": [
    "W,v = np.linalg.eig(var)"
   ]
  },
  {
   "cell_type": "code",
   "execution_count": 56,
   "metadata": {},
   "outputs": [
    {
     "name": "stdout",
     "output_type": "stream",
     "text": [
      "Valeurs propres : [1.95515607e+02 2.28749208e+01 1.78925074e+00 7.45311644e-01\n",
      " 3.94149701e-01 1.54259653e-01 7.54865884e-02 4.80617860e-02\n",
      " 2.57780410e-02 1.67316000e-02 7.78487797e-03 1.13346814e-02]\n"
     ]
    }
   ],
   "source": [
    "print('Valeurs propres : ' + str(W))"
   ]
  },
  {
   "cell_type": "code",
   "execution_count": 57,
   "metadata": {},
   "outputs": [
    {
     "name": "stdout",
     "output_type": "stream",
     "text": [
      "Somme des valeurs propres : 221.65867755102062\n"
     ]
    }
   ],
   "source": [
    "print('Somme des valeurs propres : ' + str(sum(W)))"
   ]
  },
  {
   "cell_type": "markdown",
   "metadata": {},
   "source": [
    "On retrouve bien l'inertie totale."
   ]
  },
  {
   "cell_type": "markdown",
   "metadata": {},
   "source": [
    "Voici la distribution des valeurs propres :"
   ]
  },
  {
   "cell_type": "code",
   "execution_count": 107,
   "metadata": {},
   "outputs": [
    {
     "data": {
      "image/png": "[encoded data removed]",
      "text/plain": [
       "<Figure size 432x288 with 1 Axes>"
      ]
     },
     "metadata": {
      "needs_background": "light"
     },
     "output_type": "display_data"
    }
   ],
   "source": [
    "plt.plot(W,'r+')\n",
    "plt.show()"
   ]
  },
  {
   "cell_type": "markdown",
   "metadata": {},
   "source": [
    "La plus grande valeur propre est :"
   ]
  },
  {
   "cell_type": "code",
   "execution_count": 58,
   "metadata": {},
   "outputs": [
    {
     "data": {
      "text/plain": [
       "195.51560743900558"
      ]
     },
     "execution_count": 58,
     "metadata": {},
     "output_type": "execute_result"
    }
   ],
   "source": [
    "max(W)"
   ]
  },
  {
   "cell_type": "code",
   "execution_count": 59,
   "metadata": {},
   "outputs": [
    {
     "data": {
      "text/plain": [
       "0"
      ]
     },
     "execution_count": 59,
     "metadata": {},
     "output_type": "execute_result"
    }
   ],
   "source": [
    "np.argmax(W)"
   ]
  },
  {
   "cell_type": "markdown",
   "metadata": {},
   "source": [
    "Le vecteur propre correspondant est :"
   ]
  },
  {
   "cell_type": "code",
   "execution_count": 60,
   "metadata": {},
   "outputs": [
    {
     "data": {
      "text/plain": [
       "array([-0.36399701, -0.37168996, -0.33664214, -0.25843671, -0.19758417,\n",
       "       -0.18939898, -0.20407932, -0.22550242, -0.27861221, -0.30278328,\n",
       "       -0.31822729, -0.33354611])"
      ]
     },
     "execution_count": 60,
     "metadata": {},
     "output_type": "execute_result"
    }
   ],
   "source": [
    "v[:,np.argmax(W)]"
   ]
  },
  {
   "cell_type": "markdown",
   "metadata": {},
   "source": [
    "Le rapport d'inertie est :"
   ]
  },
  {
   "cell_type": "code",
   "execution_count": 61,
   "metadata": {},
   "outputs": [
    {
     "data": {
      "text/plain": [
       "0.8820570870454764"
      ]
     },
     "execution_count": 61,
     "metadata": {},
     "output_type": "execute_result"
    }
   ],
   "source": [
    "max(W)/inertie"
   ]
  },
  {
   "cell_type": "markdown",
   "metadata": {},
   "source": [
    "On cherche la deuxième plus grande valeur propre :"
   ]
  },
  {
   "cell_type": "code",
   "execution_count": 62,
   "metadata": {},
   "outputs": [],
   "source": [
    "ind = np.argsort(W)[[-1,-2]]"
   ]
  },
  {
   "cell_type": "markdown",
   "metadata": {},
   "source": [
    "Les deux vecteurs propres correspondant aux deux plus grandes valeurs propres :"
   ]
  },
  {
   "cell_type": "code",
   "execution_count": 65,
   "metadata": {},
   "outputs": [],
   "source": [
    "planfactoriel = v[:,ind]"
   ]
  },
  {
   "cell_type": "markdown",
   "metadata": {},
   "source": [
    "La contribution de ces deux axes à l'inertie totale :"
   ]
  },
  {
   "cell_type": "code",
   "execution_count": 66,
   "metadata": {},
   "outputs": [
    {
     "data": {
      "text/plain": [
       "0.9852559378599384"
      ]
     },
     "execution_count": 66,
     "metadata": {},
     "output_type": "execute_result"
    }
   ],
   "source": [
    "sum(W[ind])/inertie"
   ]
  },
  {
   "cell_type": "markdown",
   "metadata": {},
   "source": [
    "### Représentation des individus dans le plan des nouveaux axes"
   ]
  },
  {
   "cell_type": "markdown",
   "metadata": {},
   "source": [
    "On peut calculer les coordonnées de chaque individu dans le ce plan en projettant orthogonalement sur chaque vecteur du plan :"
   ]
  },
  {
   "cell_type": "markdown",
   "metadata": {},
   "source": [
    "On calcule par exemple les coordonnées de Paris dans ce plan :"
   ]
  },
  {
   "cell_type": "code",
   "execution_count": 72,
   "metadata": {},
   "outputs": [],
   "source": [
    "paris = np.array(tableau.iloc[16,:])"
   ]
  },
  {
   "cell_type": "markdown",
   "metadata": {},
   "source": [
    "Première coordonnée :"
   ]
  },
  {
   "cell_type": "code",
   "execution_count": 75,
   "metadata": {},
   "outputs": [
    {
     "data": {
      "text/plain": [
       "-0.6987469901628063"
      ]
     },
     "execution_count": 75,
     "metadata": {},
     "output_type": "execute_result"
    }
   ],
   "source": [
    "np.dot(planfactoriel[:,0],paris)"
   ]
  },
  {
   "cell_type": "markdown",
   "metadata": {},
   "source": [
    "Deuxième coordonnée :"
   ]
  },
  {
   "cell_type": "code",
   "execution_count": 76,
   "metadata": {},
   "outputs": [
    {
     "data": {
      "text/plain": [
       "-0.6418760467334236"
      ]
     },
     "execution_count": 76,
     "metadata": {},
     "output_type": "execute_result"
    }
   ],
   "source": [
    "np.dot(planfactoriel[:,1],paris)"
   ]
  },
  {
   "cell_type": "code",
   "execution_count": 94,
   "metadata": {},
   "outputs": [
    {
     "data": {
      "image/png": "[encoded data removed]",
      "text/plain": [
       "<Figure size 432x288 with 1 Axes>"
      ]
     },
     "metadata": {
      "needs_background": "light"
     },
     "output_type": "display_data"
    }
   ],
   "source": [
    "points = []\n",
    "for i in temp_centrees.index:\n",
    "    x = np.dot(planfactoriel[:,0],np.array(tableau.iloc[i,:]))\n",
    "    y = np.dot(planfactoriel[:,1],np.array(tableau.iloc[i,:]))\n",
    "    points.append((x,y))\n",
    "    plt.scatter(x,y,color='blue')\n",
    "plt.show()"
   ]
  },
  {
   "cell_type": "markdown",
   "metadata": {},
   "source": [
    "La **qualité** de cette représentation en deux dimension est le rapport d'inertie :"
   ]
  },
  {
   "cell_type": "code",
   "execution_count": 108,
   "metadata": {},
   "outputs": [
    {
     "data": {
      "text/plain": [
       "0.9852559378599384"
      ]
     },
     "execution_count": 108,
     "metadata": {},
     "output_type": "execute_result"
    }
   ],
   "source": [
    "sum(W[ind])/inertie"
   ]
  },
  {
   "cell_type": "markdown",
   "metadata": {},
   "source": [
    "### Contribution d'un individu sur un axe\n",
    "\n",
    "On calcule la coordonnée au carré de l'individu sur l'axe $k$ divisée par $n \\lambda_k$.\n",
    "\n",
    "Par exemple, la contribution de Paris sur le premier axe :"
   ]
  },
  {
   "cell_type": "code",
   "execution_count": 111,
   "metadata": {},
   "outputs": [
    {
     "name": "stdout",
     "output_type": "stream",
     "text": [
      "7.134941628109415e-05\n"
     ]
    }
   ],
   "source": [
    "x,y = points[16]\n",
    "contrib_1 = x**2/(35*max(W))\n",
    "print(contrib_1)"
   ]
  },
  {
   "cell_type": "markdown",
   "metadata": {},
   "source": [
    "### Représentation des variables\n",
    "\n",
    "On veut voir comment les anciennes variables sont liées aux nouvelles : ici, on rappelle que les variables sont les mois. "
   ]
  },
  {
   "cell_type": "code",
   "execution_count": 100,
   "metadata": {},
   "outputs": [
    {
     "data": {
      "text/plain": [
       "array([-8.00050797, -6.58855635, -8.31288057, -3.94219176, -3.39232796,\n",
       "       -3.88770525, -1.11568643, -2.65502296, -1.11559128,  3.2794131 ,\n",
       "        7.70085531,  8.49581704,  6.81537633,  0.69985178,  1.38496936,\n",
       "        3.93516874,  9.86336296,  8.86641752,  8.18153036,  9.02819735,\n",
       "        6.1383256 ,  2.81306762, -2.72950658, -1.76419369])"
      ]
     },
     "execution_count": 100,
     "metadata": {},
     "output_type": "execute_result"
    }
   ],
   "source": [
    "np.correlate(planfactoriel[:,0],X[:,0])"
   ]
  },
  {
   "cell_type": "code",
   "execution_count": 97,
   "metadata": {},
   "outputs": [
    {
     "data": {
      "text/plain": [
       "array([-0.36399701, -0.37168996, -0.33664214, -0.25843671, -0.19758417,\n",
       "       -0.18939898, -0.20407932, -0.22550242, -0.27861221, -0.30278328,\n",
       "       -0.31822729, -0.33354611])"
      ]
     },
     "execution_count": 97,
     "metadata": {},
     "output_type": "execute_result"
    }
   ],
   "source": [
    "planfactoriel[:,0]"
   ]
  },
  {
   "cell_type": "code",
   "execution_count": 101,
   "metadata": {},
   "outputs": [
    {
     "data": {
      "text/plain": [
       "array([  1.55428571,   7.75428571,  -1.54571429,   1.95428571,\n",
       "        -2.44571429,  -1.74571429,   3.45428571,  -7.14571429,\n",
       "        -7.24571429,  -5.04571429,   9.15428571,   2.05428571,\n",
       "         3.65428571,  -8.24571429, -10.64571429,  -5.64571429,\n",
       "         2.35428571,  -2.64571429,  -1.64571429,   5.75428571,\n",
       "        -2.74571429,  -3.04571429,  -4.84571429,   1.75428571,\n",
       "         7.75428571,   4.25428571,   1.55428571,  -1.14571429,\n",
       "        -1.24571429,   7.35428571,  -0.24571429,   9.15428571,\n",
       "         9.35428571,  -9.54571429,  -2.04571429])"
      ]
     },
     "execution_count": 101,
     "metadata": {},
     "output_type": "execute_result"
    }
   ],
   "source": [
    "X[:,0]"
   ]
  },
  {
   "cell_type": "code",
   "execution_count": 102,
   "metadata": {},
   "outputs": [
    {
     "data": {
      "text/plain": [
       "12"
      ]
     },
     "execution_count": 102,
     "metadata": {},
     "output_type": "execute_result"
    }
   ],
   "source": [
    "len(planfactoriel[:,0])"
   ]
  },
  {
   "cell_type": "markdown",
   "metadata": {},
   "source": [
    "## Exercice :\n",
    "Faire les calculs présentés dans cet exemple :\n",
    "\n",
    "http://www.math.u-bordeaux.fr/~mchave100p/wordpress/wp-content/uploads/2013/10/Exemple_interpret_ACP.pdf"
   ]
  },
  {
   "cell_type": "markdown",
   "metadata": {},
   "source": [
    "## Pour aller plus loin :\n",
    "Utiliser la librairire sklearn de Python.\n",
    "\n",
    "https://towardsdatascience.com/pca-using-python-scikit-learn-e653f8989e60\n",
    "\n",
    "Autre exemple d'analyse des vidéos YouTube :\n",
    "https://www.kaggle.com/manhari/projet-acp-sur-youtube"
   ]
  },
  {
   "cell_type": "code",
   "execution_count": null,
   "metadata": {},
   "outputs": [],
   "source": []
  }
 ],
 "metadata": {
  "kernelspec": {
   "display_name": "Python 3",
   "language": "python",
   "name": "python3"
  },
  "language_info": {
   "codemirror_mode": {
    "name": "ipython",
    "version": 3
   },
   "file_extension": ".py",
   "mimetype": "text/x-python",
   "name": "python",
   "nbconvert_exporter": "python",
   "pygments_lexer": "ipython3",
   "version": "3.7.4"
  }
 },
 "nbformat": 4,
 "nbformat_minor": 4
}
