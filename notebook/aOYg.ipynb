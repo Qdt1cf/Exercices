{
 "cells": [
  {
   "cell_type": "code",
   "execution_count": 1,
   "metadata": {},
   "outputs": [],
   "source": [
    "from pylab import *"
   ]
  },
  {
   "cell_type": "markdown",
   "metadata": {},
   "source": [
    "Soit $n \\geq 3$, $\\varepsilon >0$ et $A(\\varepsilon)$ la matrice pentadiagonale définie par \n",
    "\t$$A = \\begin{pmatrix}\n",
    "\t1 & \\varepsilon & \\varepsilon^2  &  &  & \\\\\n",
    "\t\\varepsilon & 1 & \\varepsilon & \\varepsilon^2     & &  \\\\\n",
    "\t \\varepsilon^2 & \\ddots & \\ddots & \\ddots & & \\\\\n",
    "\t&   \\ddots &  &  & \\varepsilon  & \\varepsilon^2 \\\\\n",
    "\t&  &  & \\varepsilon &1  &\\varepsilon \\\\\n",
    "\t& & & \\varepsilon^2 & \\varepsilon & 1 \\\\\n",
    "\\end{pmatrix}$$"
   ]
  },
  {
   "cell_type": "code",
   "execution_count": 2,
   "metadata": {},
   "outputs": [],
   "source": [
    "def epsmatrice(n,epsilon):\n",
    "    v = ones(n-1)*epsilon\n",
    "    A=eye(n)+diag(v,-1)+diag(v,1)\n",
    "    v = ones(n-2)*epsilon**2\n",
    "    A = A + diag(v,-2) + diag(v,2)\n",
    "    return A\n",
    "\n",
    "def epsb(n,epsilon):\n",
    "    v = ones(n)\n",
    "    b = dot(epsmatrice(n,epsilon),v)\n",
    "    return b"
   ]
  },
  {
   "cell_type": "markdown",
   "metadata": {},
   "source": [
    "La matrice $A(\\varepsilon)$ est à diagonale strictement dominante si et seulement si $1 > 2\\varepsilon + 2\\varepsilon^2 \\iff \\varepsilon \\in \\left[0 ; \\frac{\\sqrt{3}-1}{2} \\right]$"
   ]
  },
  {
   "cell_type": "code",
   "execution_count": 3,
   "metadata": {},
   "outputs": [
    {
     "name": "stdout",
     "output_type": "stream",
     "text": [
      "0.3660254037844386\n"
     ]
    }
   ],
   "source": [
    "epsilon_max = (sqrt(3)-1)/2\n",
    "print(epsilon_max)"
   ]
  },
  {
   "cell_type": "code",
   "execution_count": 4,
   "metadata": {},
   "outputs": [],
   "source": [
    "def jacobi(A,b,x0,eps = 1e-5,maxiter=25):\n",
    "    D = diag(A)\n",
    "    M = diag(D)\n",
    "    N = A - M\n",
    "    x = x0\n",
    "    k = 0                                                                                                                                                                        \n",
    "    while norm(dot(A,x)-b)>eps and k<maxiter:\n",
    "        x = (b - dot(N,x)) / D\n",
    "        k = k+1\n",
    "    return x,k\n",
    "\n",
    "def rayonspectral(matrice):\n",
    "    return max(abs(eigvals(matrice)))"
   ]
  },
  {
   "cell_type": "code",
   "execution_count": 5,
   "metadata": {},
   "outputs": [],
   "source": [
    "n = 10\n",
    "epsilon = 0.2\n",
    "A = epsmatrice(n,epsilon)\n",
    "b = epsb(n,epsilon)\n",
    "x0 = zeros(n)\n",
    "conditionnement = cond (A )\n",
    "M = diag(diag(A))\n",
    "N = M - A\n",
    "B = dot(inv(M),N)\n",
    "rho = rayonspectral(B)\n",
    "\n",
    "sol, nb = jacobi(A,b,x0,1e-8,maxiter = 100)"
   ]
  },
  {
   "cell_type": "code",
   "execution_count": 6,
   "metadata": {},
   "outputs": [
    {
     "name": "stdout",
     "output_type": "stream",
     "text": [
      "[1. 1. 1. 1. 1. 1. 1. 1. 1. 1.]\n"
     ]
    }
   ],
   "source": [
    "print(sol)"
   ]
  },
  {
   "cell_type": "code",
   "execution_count": 7,
   "metadata": {},
   "outputs": [
    {
     "name": "stdout",
     "output_type": "stream",
     "text": [
      "26\n"
     ]
    }
   ],
   "source": [
    "print(nb) #nombre d'itérations pour la méthode de Jacobi"
   ]
  },
  {
   "cell_type": "code",
   "execution_count": 8,
   "metadata": {},
   "outputs": [],
   "source": [
    "n = 20\n",
    "step = 0.01\n",
    "liste_rayon = []\n",
    "X = arange(0,1,step)\n",
    "test = False\n",
    "for epsilon in X:\n",
    "    A = epsmatrice(n,epsilon)\n",
    "    b = epsb(n,epsilon)\n",
    "    M = diag(diag(A))\n",
    "    N = M - A\n",
    "    B = dot(inv(M),N)\n",
    "    rho = rayonspectral(B)\n",
    "    if test == False and rho > 1:\n",
    "        eps_max = epsilon - step\n",
    "        test = True\n",
    "    liste_rayon.append(rho)"
   ]
  },
  {
   "cell_type": "code",
   "execution_count": 9,
   "metadata": {},
   "outputs": [
    {
     "name": "stderr",
     "output_type": "stream",
     "text": [
      "No handles with labels found to put in legend.\n"
     ]
    },
    {
     "data": {
      "image/png": "[encoded data removed]",
      "text/plain": [
       "<Figure size 432x288 with 1 Axes>"
      ]
     },
     "metadata": {
      "needs_background": "light"
     },
     "output_type": "display_data"
    }
   ],
   "source": [
    "plot(X,liste_rayon,'g')\n",
    "plot(eps_max,1,'ro')\n",
    "xlabel = '$\\varepsilon$'\n",
    "legend()\n",
    "show()"
   ]
  },
  {
   "cell_type": "code",
   "execution_count": 10,
   "metadata": {},
   "outputs": [
    {
     "name": "stdout",
     "output_type": "stream",
     "text": [
      "0.37\n"
     ]
    }
   ],
   "source": [
    "print(eps_max)"
   ]
  },
  {
   "cell_type": "code",
   "execution_count": 11,
   "metadata": {},
   "outputs": [
    {
     "data": {
      "text/plain": [
       "1.3935466751393748"
      ]
     },
     "execution_count": 11,
     "metadata": {},
     "output_type": "execute_result"
    }
   ],
   "source": [
    "rayonspectral(epsmatrice(5,0.2))"
   ]
  },
  {
   "cell_type": "code",
   "execution_count": 12,
   "metadata": {},
   "outputs": [
    {
     "data": {
      "text/plain": [
       "0.3660254037844386"
      ]
     },
     "execution_count": 12,
     "metadata": {},
     "output_type": "execute_result"
    }
   ],
   "source": [
    "(sqrt(3)-1)/2"
   ]
  },
  {
   "cell_type": "code",
   "execution_count": null,
   "metadata": {},
   "outputs": [],
   "source": []
  },
  {
   "cell_type": "code",
   "execution_count": null,
   "metadata": {},
   "outputs": [],
   "source": []
  }
 ],
 "metadata": {
  "kernelspec": {
   "display_name": "Python 3",
   "language": "python",
   "name": "python3"
  },
  "language_info": {
   "codemirror_mode": {
    "name": "ipython",
    "version": 3
   },
   "file_extension": ".py",
   "mimetype": "text/x-python",
   "name": "python",
   "nbconvert_exporter": "python",
   "pygments_lexer": "ipython3",
   "version": "3.7.4"
  }
 },
 "nbformat": 4,
 "nbformat_minor": 4
}
